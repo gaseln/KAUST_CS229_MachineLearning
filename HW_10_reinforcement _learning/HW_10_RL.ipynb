{
 "cells": [
  {
   "cell_type": "markdown",
   "metadata": {},
   "source": [
    "# Importing packages"
   ]
  },
  {
   "cell_type": "code",
   "execution_count": 1,
   "metadata": {},
   "outputs": [],
   "source": [
    "import numpy as np\n",
    "from matplotlib import pyplot as plt\n",
    "import random\n",
    "import pandas as pd"
   ]
  },
  {
   "cell_type": "markdown",
   "metadata": {},
   "source": [
    "# GridWorld"
   ]
  },
  {
   "cell_type": "code",
   "execution_count": 67,
   "metadata": {},
   "outputs": [],
   "source": [
    "class GridWorld:\n",
    "    def __init__(self, width, height, discount_factor, actions_description, eta,\n",
    "                 initial_state, goal_states, off_grid_reward, goal_reward, int_reward,\n",
    "                neg_goal_states=None, neg_reward=None):\n",
    "        '''\n",
    "            Create GridWorld and calculate optimal Q values\n",
    "            \n",
    "            ---------\n",
    "            \n",
    "            Arguments:\n",
    "            width : width of GridWorld\n",
    "            height : height of GridWorld\n",
    "            discount_factor : discount factor in the definition of V and Q values\n",
    "            actions_description : 2-tuple, first parameter is a mapping from state and action to a new state, \n",
    "            second parameter is the number of possible actions available for the agent\n",
    "            eta : learning rate in Q-learning algorithm\n",
    "            initial_state : initial state from which the agent starts its movement\n",
    "            goal_states : list of goal states\n",
    "            off_grid_reward : reward for moving off GridWorld\n",
    "            goal_reward : reward for achieving the goal state\n",
    "            int_reward : reward for any other available actions  \n",
    "            neg_goal_states : list of goal states with negative reward when reaching\n",
    "            neg_reward : negative reward when reaching neg_goal_states\n",
    "        '''\n",
    "        self.width = width\n",
    "        self.height = height\n",
    "        self.discount_factor = discount_factor\n",
    "        self.action, self.n_possible_actions = actions_description\n",
    "        self.eta = eta\n",
    "        self.Q = np.zeros((self.n_possible_actions, self.height, self.width))\n",
    "        self.V = np.zeros((self.height, self.width))\n",
    "        self.initial_state = initial_state\n",
    "        self.goal_states = goal_states\n",
    "        self.off_grid_reward = off_grid_reward\n",
    "        self.goal_reward = goal_reward\n",
    "        self.int_reward = int_reward\n",
    "        self.temperature = 10.0\n",
    "        self.neg_goal_states = neg_goal_states\n",
    "        self.neg_reward = neg_reward\n",
    "        \n",
    "    def choose_action(self):\n",
    "        state_y, state_x = self.current_state\n",
    "        q = self.Q[:, state_y, state_x] / self.temperature\n",
    "        probs = np.exp(q)\n",
    "        probs /= probs.sum()\n",
    "        experiment = np.random.multinomial(1, probs)\n",
    "        self.temperature *= 0.99\n",
    "        return np.where(experiment == 1)[0][0]      \n",
    "    \n",
    "    def off_grid_check(self, state):\n",
    "        y, x = state\n",
    "        \n",
    "        if x < 0:\n",
    "            return True\n",
    "        \n",
    "        if x >= self.width:\n",
    "            return True\n",
    "        \n",
    "        if y < 0:\n",
    "            return True\n",
    "        \n",
    "        if y >= self.height:\n",
    "            return True\n",
    "        \n",
    "        return False\n",
    "    \n",
    "    def update_V(self):\n",
    "        self.V = np.max(self.Q, axis=0)\n",
    "        \n",
    "    def zeroize_Q(self):\n",
    "        self.Q = np.zeros((self.n_possible_actions, self.height, self.width))\n",
    "        \n",
    "    def optimal_policy(self):\n",
    "        return np.argmax(self.Q, axis=0)\n",
    "        \n",
    "    def Q_learning(self):\n",
    "        self.current_state = self.initial_state\n",
    "        self.temperature = 10.0\n",
    "        while self.current_state not in self.goal_states:\n",
    "            action_num = self.choose_action()\n",
    "            new_state = self.action(self.current_state, action_num)\n",
    "            y, x = self.current_state\n",
    "            if self.off_grid_check(new_state):\n",
    "                self.Q[action_num, y, x] += self.eta * (self.off_grid_reward + \n",
    "                                                        self.discount_factor * np.max(self.Q[:, y, x]) - \n",
    "                                                        self.Q[action_num, y, x])\n",
    "            else:\n",
    "                reward = self.int_reward\n",
    "                if (new_state in self.goal_states):\n",
    "                    reward = self.goal_reward\n",
    "                    \n",
    "                y_n, x_n = new_state\n",
    "                self.Q[action_num, y, x] += self.eta * (reward + \n",
    "                                                        self.discount_factor * np.max(self.Q[:, y_n, x_n]) - \n",
    "                                                        self.Q[action_num, y, x])\n",
    "                self.current_state = new_state\n",
    "        self.update_V()\n",
    "        \n",
    "    def Sarsa(self):\n",
    "        self.current_state = self.initial_state\n",
    "        self.temperature = 10.0\n",
    "        action_num = self.choose_action()\n",
    "        while self.current_state not in self.goal_states:\n",
    "            new_state = self.action(self.current_state, action_num)\n",
    "            y, x = self.current_state\n",
    "            if self.off_grid_check(new_state):\n",
    "                new_action_num = self.choose_action()\n",
    "                self.Q[action_num, y, x] += self.eta * (self.off_grid_reward + \n",
    "                                                        self.discount_factor * self.Q[new_action_num, y, x] - \n",
    "                                                        self.Q[action_num, y, x])\n",
    "            else:\n",
    "                reward = self.int_reward\n",
    "                if (new_state in self.goal_states):\n",
    "                    reward = self.goal_reward\n",
    "                    \n",
    "                y_n, x_n = new_state\n",
    "                self.current_state = new_state\n",
    "                new_action_num = self.choose_action()\n",
    "                self.Q[action_num, y, x] += self.eta * (reward + \n",
    "                                                        self.discount_factor * self.Q[new_action_num, y_n, x_n] - \n",
    "                                                        self.Q[action_num, y, x])\n",
    "            action_num = new_action_num\n",
    "        self.update_V()     \n",
    "    \n",
    "    def Q_learning_negstatesallowed(self):\n",
    "        self.current_state = self.initial_state\n",
    "        self.temperature = 10.0\n",
    "        while (self.current_state not in self.goal_states and self.current_state not in self.neg_goal_states):\n",
    "            action_num = self.choose_action()\n",
    "            new_state = self.action(self.current_state, action_num)\n",
    "            y, x = self.current_state\n",
    "            if self.off_grid_check(new_state):\n",
    "                self.Q[action_num, y, x] += self.eta * (self.off_grid_reward + \n",
    "                                                        self.discount_factor * np.max(self.Q[:, y, x]) - \n",
    "                                                        self.Q[action_num, y, x])\n",
    "            else:\n",
    "                reward = self.int_reward\n",
    "                if (new_state in self.goal_states):\n",
    "                    reward = self.goal_reward\n",
    "                if (new_state in self.neg_goal_states):\n",
    "                    reward = self.neg_reward\n",
    "                    \n",
    "                y_n, x_n = new_state\n",
    "                self.Q[action_num, y, x] += self.eta * (reward + \n",
    "                                                        self.discount_factor * np.max(self.Q[:, y_n, x_n]) - \n",
    "                                                        self.Q[action_num, y, x])\n",
    "                self.current_state = new_state\n",
    "        self.update_V()\n",
    "\n"
   ]
  },
  {
   "cell_type": "code",
   "execution_count": 3,
   "metadata": {},
   "outputs": [],
   "source": [
    "def action(state, number):\n",
    "    y, x = state\n",
    "    if number == 0: # up\n",
    "        return (y - 1, x)\n",
    "    if number == 1: # down\n",
    "        return (y + 1, x)\n",
    "    if number == 2: # left\n",
    "        return (y, x - 1)\n",
    "    if number == 3: # right\n",
    "        return (y, x + 1)"
   ]
  },
  {
   "cell_type": "markdown",
   "metadata": {},
   "source": [
    "# Q learning "
   ]
  },
  {
   "cell_type": "code",
   "execution_count": 14,
   "metadata": {},
   "outputs": [],
   "source": [
    "GW = GridWorld(5, 4, 0.9, (action, 4), 0.05, (0, 0), [(3, 4)], -1.0, 100.0, 0.0)"
   ]
  },
  {
   "cell_type": "code",
   "execution_count": 15,
   "metadata": {},
   "outputs": [],
   "source": [
    "n_episodes = 100000\n",
    "for i in range(n_episodes):\n",
    "    GW.Q_learning()"
   ]
  },
  {
   "cell_type": "code",
   "execution_count": 16,
   "metadata": {},
   "outputs": [
    {
     "data": {
      "text/plain": [
       "array([[[46.830, 52.144, 58.049, 64.610, 1.836],\n",
       "        [47.830, 53.144, 59.049, 3.506, 1.152],\n",
       "        [53.144, 59.049, 65.610, 0.011, 0.208],\n",
       "        [59.049, 65.610, 0.812, 7.897, 0.000]],\n",
       "\n",
       "       [[53.144, 59.049, 65.610, 72.900, 33.497],\n",
       "        [59.049, 65.610, 72.900, 81.000, 90.000],\n",
       "        [65.610, 72.900, 81.000, 90.000, 100.000],\n",
       "        [64.610, 71.900, 80.000, 0.341, 0.000]],\n",
       "\n",
       "       [[46.830, 47.830, 53.144, 59.049, 3.693],\n",
       "        [52.144, 53.144, 59.049, 3.469, 0.059],\n",
       "        [58.049, 59.049, 65.610, 13.575, 4.050],\n",
       "        [1.169, 65.610, 3.847, 7.897, 0.000]],\n",
       "\n",
       "       [[53.144, 59.049, 65.610, 7.270, 1.794],\n",
       "        [59.049, 65.610, 72.900, 81.000, 3.177],\n",
       "        [65.610, 72.900, 81.000, 90.000, 16.961],\n",
       "        [72.900, 81.000, 90.000, 100.000, 0.000]]])"
      ]
     },
     "execution_count": 16,
     "metadata": {},
     "output_type": "execute_result"
    }
   ],
   "source": [
    "np.set_printoptions(formatter={'float': lambda x: \"{0:0.3f}\".format(x)})\n",
    "GW.Q"
   ]
  },
  {
   "cell_type": "code",
   "execution_count": 18,
   "metadata": {},
   "outputs": [
    {
     "data": {
      "text/plain": [
       "array([[1, 1, 1, 1, 1],\n",
       "       [1, 1, 1, 1, 1],\n",
       "       [1, 1, 1, 1, 1],\n",
       "       [3, 3, 3, 3, 0]])"
      ]
     },
     "execution_count": 18,
     "metadata": {},
     "output_type": "execute_result"
    }
   ],
   "source": [
    "GW.optimal_policy()"
   ]
  },
  {
   "cell_type": "code",
   "execution_count": 32,
   "metadata": {},
   "outputs": [
    {
     "data": {
      "text/html": [
       "<div>\n",
       "<style scoped>\n",
       "    .dataframe tbody tr th:only-of-type {\n",
       "        vertical-align: middle;\n",
       "    }\n",
       "\n",
       "    .dataframe tbody tr th {\n",
       "        vertical-align: top;\n",
       "    }\n",
       "\n",
       "    .dataframe thead th {\n",
       "        text-align: right;\n",
       "    }\n",
       "</style>\n",
       "<table border=\"1\" class=\"dataframe\">\n",
       "  <thead>\n",
       "    <tr style=\"text-align: right;\">\n",
       "      <th></th>\n",
       "      <th>0</th>\n",
       "      <th>1</th>\n",
       "      <th>2</th>\n",
       "      <th>3</th>\n",
       "      <th>4</th>\n",
       "    </tr>\n",
       "  </thead>\n",
       "  <tbody>\n",
       "    <tr>\n",
       "      <th>0</th>\n",
       "      <td>46.83</td>\n",
       "      <td>52.14</td>\n",
       "      <td>58.05</td>\n",
       "      <td>64.61</td>\n",
       "      <td>1.84</td>\n",
       "    </tr>\n",
       "    <tr>\n",
       "      <th>1</th>\n",
       "      <td>47.83</td>\n",
       "      <td>53.14</td>\n",
       "      <td>59.05</td>\n",
       "      <td>3.51</td>\n",
       "      <td>1.15</td>\n",
       "    </tr>\n",
       "    <tr>\n",
       "      <th>2</th>\n",
       "      <td>53.14</td>\n",
       "      <td>59.05</td>\n",
       "      <td>65.61</td>\n",
       "      <td>0.01</td>\n",
       "      <td>0.21</td>\n",
       "    </tr>\n",
       "    <tr>\n",
       "      <th>3</th>\n",
       "      <td>59.05</td>\n",
       "      <td>65.61</td>\n",
       "      <td>0.81</td>\n",
       "      <td>7.90</td>\n",
       "      <td>0.00</td>\n",
       "    </tr>\n",
       "  </tbody>\n",
       "</table>\n",
       "</div>"
      ],
      "text/plain": [
       "       0      1      2      3     4\n",
       "0  46.83  52.14  58.05  64.61  1.84\n",
       "1  47.83  53.14  59.05   3.51  1.15\n",
       "2  53.14  59.05  65.61   0.01  0.21\n",
       "3  59.05  65.61   0.81   7.90  0.00"
      ]
     },
     "execution_count": 32,
     "metadata": {},
     "output_type": "execute_result"
    }
   ],
   "source": [
    "pd.DataFrame(GW.Q[0]).round(2)"
   ]
  },
  {
   "cell_type": "code",
   "execution_count": 29,
   "metadata": {},
   "outputs": [
    {
     "data": {
      "text/html": [
       "<div>\n",
       "<style scoped>\n",
       "    .dataframe tbody tr th:only-of-type {\n",
       "        vertical-align: middle;\n",
       "    }\n",
       "\n",
       "    .dataframe tbody tr th {\n",
       "        vertical-align: top;\n",
       "    }\n",
       "\n",
       "    .dataframe thead th {\n",
       "        text-align: right;\n",
       "    }\n",
       "</style>\n",
       "<table border=\"1\" class=\"dataframe\">\n",
       "  <thead>\n",
       "    <tr style=\"text-align: right;\">\n",
       "      <th></th>\n",
       "      <th>0</th>\n",
       "      <th>1</th>\n",
       "      <th>2</th>\n",
       "      <th>3</th>\n",
       "      <th>4</th>\n",
       "    </tr>\n",
       "  </thead>\n",
       "  <tbody>\n",
       "    <tr>\n",
       "      <th>0</th>\n",
       "      <td>53.144</td>\n",
       "      <td>59.049</td>\n",
       "      <td>65.61</td>\n",
       "      <td>72.900</td>\n",
       "      <td>33.497</td>\n",
       "    </tr>\n",
       "    <tr>\n",
       "      <th>1</th>\n",
       "      <td>59.049</td>\n",
       "      <td>65.610</td>\n",
       "      <td>72.90</td>\n",
       "      <td>81.000</td>\n",
       "      <td>90.000</td>\n",
       "    </tr>\n",
       "    <tr>\n",
       "      <th>2</th>\n",
       "      <td>65.610</td>\n",
       "      <td>72.900</td>\n",
       "      <td>81.00</td>\n",
       "      <td>90.000</td>\n",
       "      <td>100.000</td>\n",
       "    </tr>\n",
       "    <tr>\n",
       "      <th>3</th>\n",
       "      <td>64.610</td>\n",
       "      <td>71.900</td>\n",
       "      <td>80.00</td>\n",
       "      <td>0.341</td>\n",
       "      <td>0.000</td>\n",
       "    </tr>\n",
       "  </tbody>\n",
       "</table>\n",
       "</div>"
      ],
      "text/plain": [
       "        0       1      2       3        4\n",
       "0  53.144  59.049  65.61  72.900   33.497\n",
       "1  59.049  65.610  72.90  81.000   90.000\n",
       "2  65.610  72.900  81.00  90.000  100.000\n",
       "3  64.610  71.900  80.00   0.341    0.000"
      ]
     },
     "execution_count": 29,
     "metadata": {},
     "output_type": "execute_result"
    }
   ],
   "source": [
    "pd.DataFrame(GW.Q[1]).round(3)"
   ]
  },
  {
   "cell_type": "code",
   "execution_count": 30,
   "metadata": {},
   "outputs": [
    {
     "data": {
      "text/html": [
       "<div>\n",
       "<style scoped>\n",
       "    .dataframe tbody tr th:only-of-type {\n",
       "        vertical-align: middle;\n",
       "    }\n",
       "\n",
       "    .dataframe tbody tr th {\n",
       "        vertical-align: top;\n",
       "    }\n",
       "\n",
       "    .dataframe thead th {\n",
       "        text-align: right;\n",
       "    }\n",
       "</style>\n",
       "<table border=\"1\" class=\"dataframe\">\n",
       "  <thead>\n",
       "    <tr style=\"text-align: right;\">\n",
       "      <th></th>\n",
       "      <th>0</th>\n",
       "      <th>1</th>\n",
       "      <th>2</th>\n",
       "      <th>3</th>\n",
       "      <th>4</th>\n",
       "    </tr>\n",
       "  </thead>\n",
       "  <tbody>\n",
       "    <tr>\n",
       "      <th>0</th>\n",
       "      <td>46.830</td>\n",
       "      <td>47.830</td>\n",
       "      <td>53.144</td>\n",
       "      <td>59.049</td>\n",
       "      <td>3.693</td>\n",
       "    </tr>\n",
       "    <tr>\n",
       "      <th>1</th>\n",
       "      <td>52.144</td>\n",
       "      <td>53.144</td>\n",
       "      <td>59.049</td>\n",
       "      <td>3.469</td>\n",
       "      <td>0.059</td>\n",
       "    </tr>\n",
       "    <tr>\n",
       "      <th>2</th>\n",
       "      <td>58.049</td>\n",
       "      <td>59.049</td>\n",
       "      <td>65.610</td>\n",
       "      <td>13.575</td>\n",
       "      <td>4.050</td>\n",
       "    </tr>\n",
       "    <tr>\n",
       "      <th>3</th>\n",
       "      <td>1.169</td>\n",
       "      <td>65.610</td>\n",
       "      <td>3.847</td>\n",
       "      <td>7.897</td>\n",
       "      <td>0.000</td>\n",
       "    </tr>\n",
       "  </tbody>\n",
       "</table>\n",
       "</div>"
      ],
      "text/plain": [
       "        0       1       2       3      4\n",
       "0  46.830  47.830  53.144  59.049  3.693\n",
       "1  52.144  53.144  59.049   3.469  0.059\n",
       "2  58.049  59.049  65.610  13.575  4.050\n",
       "3   1.169  65.610   3.847   7.897  0.000"
      ]
     },
     "execution_count": 30,
     "metadata": {},
     "output_type": "execute_result"
    }
   ],
   "source": [
    "pd.DataFrame(GW.Q[2]).round(3)"
   ]
  },
  {
   "cell_type": "code",
   "execution_count": 34,
   "metadata": {},
   "outputs": [
    {
     "data": {
      "text/html": [
       "<div>\n",
       "<style scoped>\n",
       "    .dataframe tbody tr th:only-of-type {\n",
       "        vertical-align: middle;\n",
       "    }\n",
       "\n",
       "    .dataframe tbody tr th {\n",
       "        vertical-align: top;\n",
       "    }\n",
       "\n",
       "    .dataframe thead th {\n",
       "        text-align: right;\n",
       "    }\n",
       "</style>\n",
       "<table border=\"1\" class=\"dataframe\">\n",
       "  <thead>\n",
       "    <tr style=\"text-align: right;\">\n",
       "      <th></th>\n",
       "      <th>0</th>\n",
       "      <th>1</th>\n",
       "      <th>2</th>\n",
       "      <th>3</th>\n",
       "      <th>4</th>\n",
       "    </tr>\n",
       "  </thead>\n",
       "  <tbody>\n",
       "    <tr>\n",
       "      <th>0</th>\n",
       "      <td>53.14</td>\n",
       "      <td>59.05</td>\n",
       "      <td>65.61</td>\n",
       "      <td>7.27</td>\n",
       "      <td>1.79</td>\n",
       "    </tr>\n",
       "    <tr>\n",
       "      <th>1</th>\n",
       "      <td>59.05</td>\n",
       "      <td>65.61</td>\n",
       "      <td>72.90</td>\n",
       "      <td>81.00</td>\n",
       "      <td>3.18</td>\n",
       "    </tr>\n",
       "    <tr>\n",
       "      <th>2</th>\n",
       "      <td>65.61</td>\n",
       "      <td>72.90</td>\n",
       "      <td>81.00</td>\n",
       "      <td>90.00</td>\n",
       "      <td>16.96</td>\n",
       "    </tr>\n",
       "    <tr>\n",
       "      <th>3</th>\n",
       "      <td>72.90</td>\n",
       "      <td>81.00</td>\n",
       "      <td>90.00</td>\n",
       "      <td>100.00</td>\n",
       "      <td>0.00</td>\n",
       "    </tr>\n",
       "  </tbody>\n",
       "</table>\n",
       "</div>"
      ],
      "text/plain": [
       "       0      1      2       3      4\n",
       "0  53.14  59.05  65.61    7.27   1.79\n",
       "1  59.05  65.61  72.90   81.00   3.18\n",
       "2  65.61  72.90  81.00   90.00  16.96\n",
       "3  72.90  81.00  90.00  100.00   0.00"
      ]
     },
     "execution_count": 34,
     "metadata": {},
     "output_type": "execute_result"
    }
   ],
   "source": [
    "pd.DataFrame(GW.Q[3]).round(2)"
   ]
  },
  {
   "cell_type": "code",
   "execution_count": 35,
   "metadata": {},
   "outputs": [
    {
     "data": {
      "text/html": [
       "<div>\n",
       "<style scoped>\n",
       "    .dataframe tbody tr th:only-of-type {\n",
       "        vertical-align: middle;\n",
       "    }\n",
       "\n",
       "    .dataframe tbody tr th {\n",
       "        vertical-align: top;\n",
       "    }\n",
       "\n",
       "    .dataframe thead th {\n",
       "        text-align: right;\n",
       "    }\n",
       "</style>\n",
       "<table border=\"1\" class=\"dataframe\">\n",
       "  <thead>\n",
       "    <tr style=\"text-align: right;\">\n",
       "      <th></th>\n",
       "      <th>0</th>\n",
       "      <th>1</th>\n",
       "      <th>2</th>\n",
       "      <th>3</th>\n",
       "      <th>4</th>\n",
       "    </tr>\n",
       "  </thead>\n",
       "  <tbody>\n",
       "    <tr>\n",
       "      <th>0</th>\n",
       "      <td>53.14</td>\n",
       "      <td>59.05</td>\n",
       "      <td>65.61</td>\n",
       "      <td>72.9</td>\n",
       "      <td>33.5</td>\n",
       "    </tr>\n",
       "    <tr>\n",
       "      <th>1</th>\n",
       "      <td>59.05</td>\n",
       "      <td>65.61</td>\n",
       "      <td>72.90</td>\n",
       "      <td>81.0</td>\n",
       "      <td>90.0</td>\n",
       "    </tr>\n",
       "    <tr>\n",
       "      <th>2</th>\n",
       "      <td>65.61</td>\n",
       "      <td>72.90</td>\n",
       "      <td>81.00</td>\n",
       "      <td>90.0</td>\n",
       "      <td>100.0</td>\n",
       "    </tr>\n",
       "    <tr>\n",
       "      <th>3</th>\n",
       "      <td>72.90</td>\n",
       "      <td>81.00</td>\n",
       "      <td>90.00</td>\n",
       "      <td>100.0</td>\n",
       "      <td>0.0</td>\n",
       "    </tr>\n",
       "  </tbody>\n",
       "</table>\n",
       "</div>"
      ],
      "text/plain": [
       "       0      1      2      3      4\n",
       "0  53.14  59.05  65.61   72.9   33.5\n",
       "1  59.05  65.61  72.90   81.0   90.0\n",
       "2  65.61  72.90  81.00   90.0  100.0\n",
       "3  72.90  81.00  90.00  100.0    0.0"
      ]
     },
     "execution_count": 35,
     "metadata": {},
     "output_type": "execute_result"
    }
   ],
   "source": [
    "pd.DataFrame(GW.V).round(2)"
   ]
  },
  {
   "cell_type": "markdown",
   "metadata": {},
   "source": [
    "# Sarsa"
   ]
  },
  {
   "cell_type": "code",
   "execution_count": 36,
   "metadata": {},
   "outputs": [],
   "source": [
    "GW = GridWorld(5, 4, 0.9, (action, 4), 0.05, (0, 0), [(3, 4)], -1.0, 100.0, 0.0)"
   ]
  },
  {
   "cell_type": "code",
   "execution_count": 43,
   "metadata": {},
   "outputs": [],
   "source": [
    "n_episodes = 500000\n",
    "for i in range(n_episodes):\n",
    "    GW.Sarsa()"
   ]
  },
  {
   "cell_type": "code",
   "execution_count": 44,
   "metadata": {},
   "outputs": [
    {
     "data": {
      "text/html": [
       "<div>\n",
       "<style scoped>\n",
       "    .dataframe tbody tr th:only-of-type {\n",
       "        vertical-align: middle;\n",
       "    }\n",
       "\n",
       "    .dataframe tbody tr th {\n",
       "        vertical-align: top;\n",
       "    }\n",
       "\n",
       "    .dataframe thead th {\n",
       "        text-align: right;\n",
       "    }\n",
       "</style>\n",
       "<table border=\"1\" class=\"dataframe\">\n",
       "  <thead>\n",
       "    <tr style=\"text-align: right;\">\n",
       "      <th></th>\n",
       "      <th>0</th>\n",
       "      <th>1</th>\n",
       "      <th>2</th>\n",
       "      <th>3</th>\n",
       "      <th>4</th>\n",
       "    </tr>\n",
       "  </thead>\n",
       "  <tbody>\n",
       "    <tr>\n",
       "      <th>0</th>\n",
       "      <td>33.37</td>\n",
       "      <td>40.13</td>\n",
       "      <td>46.54</td>\n",
       "      <td>54.10</td>\n",
       "      <td>57.33</td>\n",
       "    </tr>\n",
       "    <tr>\n",
       "      <th>1</th>\n",
       "      <td>33.84</td>\n",
       "      <td>41.11</td>\n",
       "      <td>48.39</td>\n",
       "      <td>55.02</td>\n",
       "      <td>60.40</td>\n",
       "    </tr>\n",
       "    <tr>\n",
       "      <th>2</th>\n",
       "      <td>38.16</td>\n",
       "      <td>47.69</td>\n",
       "      <td>56.90</td>\n",
       "      <td>66.02</td>\n",
       "      <td>72.64</td>\n",
       "    </tr>\n",
       "    <tr>\n",
       "      <th>3</th>\n",
       "      <td>45.76</td>\n",
       "      <td>54.98</td>\n",
       "      <td>65.73</td>\n",
       "      <td>75.00</td>\n",
       "      <td>0.00</td>\n",
       "    </tr>\n",
       "  </tbody>\n",
       "</table>\n",
       "</div>"
      ],
      "text/plain": [
       "       0      1      2      3      4\n",
       "0  33.37  40.13  46.54  54.10  57.33\n",
       "1  33.84  41.11  48.39  55.02  60.40\n",
       "2  38.16  47.69  56.90  66.02  72.64\n",
       "3  45.76  54.98  65.73  75.00   0.00"
      ]
     },
     "execution_count": 44,
     "metadata": {},
     "output_type": "execute_result"
    }
   ],
   "source": [
    "pd.DataFrame(GW.Q[0]).round(2)"
   ]
  },
  {
   "cell_type": "code",
   "execution_count": 45,
   "metadata": {},
   "outputs": [
    {
     "data": {
      "text/html": [
       "<div>\n",
       "<style scoped>\n",
       "    .dataframe tbody tr th:only-of-type {\n",
       "        vertical-align: middle;\n",
       "    }\n",
       "\n",
       "    .dataframe tbody tr th {\n",
       "        vertical-align: top;\n",
       "    }\n",
       "\n",
       "    .dataframe thead th {\n",
       "        text-align: right;\n",
       "    }\n",
       "</style>\n",
       "<table border=\"1\" class=\"dataframe\">\n",
       "  <thead>\n",
       "    <tr style=\"text-align: right;\">\n",
       "      <th></th>\n",
       "      <th>0</th>\n",
       "      <th>1</th>\n",
       "      <th>2</th>\n",
       "      <th>3</th>\n",
       "      <th>4</th>\n",
       "    </tr>\n",
       "  </thead>\n",
       "  <tbody>\n",
       "    <tr>\n",
       "      <th>0</th>\n",
       "      <td>38.59</td>\n",
       "      <td>47.24</td>\n",
       "      <td>55.73</td>\n",
       "      <td>65.66</td>\n",
       "      <td>72.26</td>\n",
       "    </tr>\n",
       "    <tr>\n",
       "      <th>1</th>\n",
       "      <td>45.20</td>\n",
       "      <td>54.62</td>\n",
       "      <td>64.83</td>\n",
       "      <td>75.27</td>\n",
       "      <td>86.32</td>\n",
       "    </tr>\n",
       "    <tr>\n",
       "      <th>2</th>\n",
       "      <td>48.46</td>\n",
       "      <td>60.57</td>\n",
       "      <td>73.50</td>\n",
       "      <td>86.96</td>\n",
       "      <td>100.00</td>\n",
       "    </tr>\n",
       "    <tr>\n",
       "      <th>3</th>\n",
       "      <td>49.96</td>\n",
       "      <td>59.79</td>\n",
       "      <td>71.32</td>\n",
       "      <td>85.34</td>\n",
       "      <td>0.00</td>\n",
       "    </tr>\n",
       "  </tbody>\n",
       "</table>\n",
       "</div>"
      ],
      "text/plain": [
       "       0      1      2      3       4\n",
       "0  38.59  47.24  55.73  65.66   72.26\n",
       "1  45.20  54.62  64.83  75.27   86.32\n",
       "2  48.46  60.57  73.50  86.96  100.00\n",
       "3  49.96  59.79  71.32  85.34    0.00"
      ]
     },
     "execution_count": 45,
     "metadata": {},
     "output_type": "execute_result"
    }
   ],
   "source": [
    "pd.DataFrame(GW.Q[1]).round(2)"
   ]
  },
  {
   "cell_type": "code",
   "execution_count": 46,
   "metadata": {},
   "outputs": [
    {
     "data": {
      "text/html": [
       "<div>\n",
       "<style scoped>\n",
       "    .dataframe tbody tr th:only-of-type {\n",
       "        vertical-align: middle;\n",
       "    }\n",
       "\n",
       "    .dataframe tbody tr th {\n",
       "        vertical-align: top;\n",
       "    }\n",
       "\n",
       "    .dataframe thead th {\n",
       "        text-align: right;\n",
       "    }\n",
       "</style>\n",
       "<table border=\"1\" class=\"dataframe\">\n",
       "  <thead>\n",
       "    <tr style=\"text-align: right;\">\n",
       "      <th></th>\n",
       "      <th>0</th>\n",
       "      <th>1</th>\n",
       "      <th>2</th>\n",
       "      <th>3</th>\n",
       "      <th>4</th>\n",
       "    </tr>\n",
       "  </thead>\n",
       "  <tbody>\n",
       "    <tr>\n",
       "      <th>0</th>\n",
       "      <td>33.46</td>\n",
       "      <td>33.67</td>\n",
       "      <td>41.21</td>\n",
       "      <td>47.55</td>\n",
       "      <td>54.69</td>\n",
       "    </tr>\n",
       "    <tr>\n",
       "      <th>1</th>\n",
       "      <td>38.66</td>\n",
       "      <td>39.26</td>\n",
       "      <td>46.54</td>\n",
       "      <td>55.95</td>\n",
       "      <td>62.82</td>\n",
       "    </tr>\n",
       "    <tr>\n",
       "      <th>2</th>\n",
       "      <td>43.41</td>\n",
       "      <td>43.98</td>\n",
       "      <td>54.35</td>\n",
       "      <td>64.30</td>\n",
       "      <td>75.48</td>\n",
       "    </tr>\n",
       "    <tr>\n",
       "      <th>3</th>\n",
       "      <td>47.75</td>\n",
       "      <td>49.66</td>\n",
       "      <td>59.60</td>\n",
       "      <td>71.39</td>\n",
       "      <td>0.00</td>\n",
       "    </tr>\n",
       "  </tbody>\n",
       "</table>\n",
       "</div>"
      ],
      "text/plain": [
       "       0      1      2      3      4\n",
       "0  33.46  33.67  41.21  47.55  54.69\n",
       "1  38.66  39.26  46.54  55.95  62.82\n",
       "2  43.41  43.98  54.35  64.30  75.48\n",
       "3  47.75  49.66  59.60  71.39   0.00"
      ]
     },
     "execution_count": 46,
     "metadata": {},
     "output_type": "execute_result"
    }
   ],
   "source": [
    "pd.DataFrame(GW.Q[2]).round(2)"
   ]
  },
  {
   "cell_type": "code",
   "execution_count": 47,
   "metadata": {},
   "outputs": [
    {
     "data": {
      "text/html": [
       "<div>\n",
       "<style scoped>\n",
       "    .dataframe tbody tr th:only-of-type {\n",
       "        vertical-align: middle;\n",
       "    }\n",
       "\n",
       "    .dataframe tbody tr th {\n",
       "        vertical-align: top;\n",
       "    }\n",
       "\n",
       "    .dataframe thead th {\n",
       "        text-align: right;\n",
       "    }\n",
       "</style>\n",
       "<table border=\"1\" class=\"dataframe\">\n",
       "  <thead>\n",
       "    <tr style=\"text-align: right;\">\n",
       "      <th></th>\n",
       "      <th>0</th>\n",
       "      <th>1</th>\n",
       "      <th>2</th>\n",
       "      <th>3</th>\n",
       "      <th>4</th>\n",
       "    </tr>\n",
       "  </thead>\n",
       "  <tbody>\n",
       "    <tr>\n",
       "      <th>0</th>\n",
       "      <td>40.48</td>\n",
       "      <td>48.81</td>\n",
       "      <td>55.81</td>\n",
       "      <td>62.30</td>\n",
       "      <td>60.58</td>\n",
       "    </tr>\n",
       "    <tr>\n",
       "      <th>1</th>\n",
       "      <td>46.53</td>\n",
       "      <td>55.98</td>\n",
       "      <td>65.36</td>\n",
       "      <td>74.13</td>\n",
       "      <td>69.00</td>\n",
       "    </tr>\n",
       "    <tr>\n",
       "      <th>2</th>\n",
       "      <td>54.45</td>\n",
       "      <td>64.65</td>\n",
       "      <td>75.06</td>\n",
       "      <td>84.21</td>\n",
       "      <td>85.39</td>\n",
       "    </tr>\n",
       "    <tr>\n",
       "      <th>3</th>\n",
       "      <td>61.94</td>\n",
       "      <td>73.38</td>\n",
       "      <td>85.40</td>\n",
       "      <td>100.00</td>\n",
       "      <td>0.00</td>\n",
       "    </tr>\n",
       "  </tbody>\n",
       "</table>\n",
       "</div>"
      ],
      "text/plain": [
       "       0      1      2       3      4\n",
       "0  40.48  48.81  55.81   62.30  60.58\n",
       "1  46.53  55.98  65.36   74.13  69.00\n",
       "2  54.45  64.65  75.06   84.21  85.39\n",
       "3  61.94  73.38  85.40  100.00   0.00"
      ]
     },
     "execution_count": 47,
     "metadata": {},
     "output_type": "execute_result"
    }
   ],
   "source": [
    "pd.DataFrame(GW.Q[3]).round(2)"
   ]
  },
  {
   "cell_type": "code",
   "execution_count": 48,
   "metadata": {},
   "outputs": [
    {
     "data": {
      "text/html": [
       "<div>\n",
       "<style scoped>\n",
       "    .dataframe tbody tr th:only-of-type {\n",
       "        vertical-align: middle;\n",
       "    }\n",
       "\n",
       "    .dataframe tbody tr th {\n",
       "        vertical-align: top;\n",
       "    }\n",
       "\n",
       "    .dataframe thead th {\n",
       "        text-align: right;\n",
       "    }\n",
       "</style>\n",
       "<table border=\"1\" class=\"dataframe\">\n",
       "  <thead>\n",
       "    <tr style=\"text-align: right;\">\n",
       "      <th></th>\n",
       "      <th>0</th>\n",
       "      <th>1</th>\n",
       "      <th>2</th>\n",
       "      <th>3</th>\n",
       "      <th>4</th>\n",
       "    </tr>\n",
       "  </thead>\n",
       "  <tbody>\n",
       "    <tr>\n",
       "      <th>0</th>\n",
       "      <td>40.48</td>\n",
       "      <td>48.81</td>\n",
       "      <td>55.81</td>\n",
       "      <td>65.66</td>\n",
       "      <td>72.26</td>\n",
       "    </tr>\n",
       "    <tr>\n",
       "      <th>1</th>\n",
       "      <td>46.53</td>\n",
       "      <td>55.98</td>\n",
       "      <td>65.36</td>\n",
       "      <td>75.27</td>\n",
       "      <td>86.32</td>\n",
       "    </tr>\n",
       "    <tr>\n",
       "      <th>2</th>\n",
       "      <td>54.45</td>\n",
       "      <td>64.65</td>\n",
       "      <td>75.06</td>\n",
       "      <td>86.96</td>\n",
       "      <td>100.00</td>\n",
       "    </tr>\n",
       "    <tr>\n",
       "      <th>3</th>\n",
       "      <td>61.94</td>\n",
       "      <td>73.38</td>\n",
       "      <td>85.40</td>\n",
       "      <td>100.00</td>\n",
       "      <td>0.00</td>\n",
       "    </tr>\n",
       "  </tbody>\n",
       "</table>\n",
       "</div>"
      ],
      "text/plain": [
       "       0      1      2       3       4\n",
       "0  40.48  48.81  55.81   65.66   72.26\n",
       "1  46.53  55.98  65.36   75.27   86.32\n",
       "2  54.45  64.65  75.06   86.96  100.00\n",
       "3  61.94  73.38  85.40  100.00    0.00"
      ]
     },
     "execution_count": 48,
     "metadata": {},
     "output_type": "execute_result"
    }
   ],
   "source": [
    "pd.DataFrame(GW.V).round(2)"
   ]
  },
  {
   "cell_type": "code",
   "execution_count": 50,
   "metadata": {},
   "outputs": [
    {
     "data": {
      "text/plain": [
       "array([[3, 3, 3, 1, 1],\n",
       "       [3, 3, 3, 1, 1],\n",
       "       [3, 3, 3, 1, 1],\n",
       "       [3, 3, 3, 3, 0]])"
      ]
     },
     "execution_count": 50,
     "metadata": {},
     "output_type": "execute_result"
    }
   ],
   "source": [
    "GW.optimal_policy()"
   ]
  },
  {
   "cell_type": "markdown",
   "metadata": {},
   "source": [
    "# Two goal states"
   ]
  },
  {
   "cell_type": "code",
   "execution_count": 64,
   "metadata": {},
   "outputs": [],
   "source": [
    "GW = GridWorld(5, 4, 0.9, (action, 4), 0.05, (0, 0), [(3, 4), (0, 4)], -1.0, 100.0, 0.0)"
   ]
  },
  {
   "cell_type": "code",
   "execution_count": 65,
   "metadata": {},
   "outputs": [],
   "source": [
    "n_episodes = 100000\n",
    "for i in range(n_episodes):\n",
    "    GW.Q_learning()"
   ]
  },
  {
   "cell_type": "code",
   "execution_count": 66,
   "metadata": {},
   "outputs": [
    {
     "data": {
      "text/plain": [
       "array([[3, 3, 3, 3, 0],\n",
       "       [0, 0, 0, 3, 0],\n",
       "       [0, 0, 0, 1, 1],\n",
       "       [0, 3, 3, 3, 0]])"
      ]
     },
     "execution_count": 66,
     "metadata": {},
     "output_type": "execute_result"
    }
   ],
   "source": [
    "GW.optimal_policy()"
   ]
  },
  {
   "cell_type": "code",
   "execution_count": 63,
   "metadata": {},
   "outputs": [
    {
     "data": {
      "text/html": [
       "<div>\n",
       "<style scoped>\n",
       "    .dataframe tbody tr th:only-of-type {\n",
       "        vertical-align: middle;\n",
       "    }\n",
       "\n",
       "    .dataframe tbody tr th {\n",
       "        vertical-align: top;\n",
       "    }\n",
       "\n",
       "    .dataframe thead th {\n",
       "        text-align: right;\n",
       "    }\n",
       "</style>\n",
       "<table border=\"1\" class=\"dataframe\">\n",
       "  <thead>\n",
       "    <tr style=\"text-align: right;\">\n",
       "      <th></th>\n",
       "      <th>0</th>\n",
       "      <th>1</th>\n",
       "      <th>2</th>\n",
       "      <th>3</th>\n",
       "      <th>4</th>\n",
       "    </tr>\n",
       "  </thead>\n",
       "  <tbody>\n",
       "    <tr>\n",
       "      <th>0</th>\n",
       "      <td>72.90</td>\n",
       "      <td>81.00</td>\n",
       "      <td>90.00</td>\n",
       "      <td>100.00</td>\n",
       "      <td>0.00</td>\n",
       "    </tr>\n",
       "    <tr>\n",
       "      <th>1</th>\n",
       "      <td>65.61</td>\n",
       "      <td>72.90</td>\n",
       "      <td>81.00</td>\n",
       "      <td>30.89</td>\n",
       "      <td>1.08</td>\n",
       "    </tr>\n",
       "    <tr>\n",
       "      <th>2</th>\n",
       "      <td>65.61</td>\n",
       "      <td>72.90</td>\n",
       "      <td>81.00</td>\n",
       "      <td>90.00</td>\n",
       "      <td>0.30</td>\n",
       "    </tr>\n",
       "    <tr>\n",
       "      <th>3</th>\n",
       "      <td>59.05</td>\n",
       "      <td>65.61</td>\n",
       "      <td>3.82</td>\n",
       "      <td>22.62</td>\n",
       "      <td>0.00</td>\n",
       "    </tr>\n",
       "  </tbody>\n",
       "</table>\n",
       "</div>"
      ],
      "text/plain": [
       "       0      1      2       3     4\n",
       "0  72.90  81.00  90.00  100.00  0.00\n",
       "1  65.61  72.90  81.00   30.89  1.08\n",
       "2  65.61  72.90  81.00   90.00  0.30\n",
       "3  59.05  65.61   3.82   22.62  0.00"
      ]
     },
     "execution_count": 63,
     "metadata": {},
     "output_type": "execute_result"
    }
   ],
   "source": [
    "pd.DataFrame(GW.Q[3]).round(2)"
   ]
  },
  {
   "cell_type": "markdown",
   "metadata": {},
   "source": [
    "# GridWorld with negative states"
   ]
  },
  {
   "cell_type": "code",
   "execution_count": 68,
   "metadata": {},
   "outputs": [],
   "source": [
    "GW_n = GridWorld(5, 4, 0.9, (action, 4), 0.05, (0, 0), [(3, 4), (0, 4)], -1.0, 100.0, 0.0, [(0, 3)], -100.0)"
   ]
  },
  {
   "cell_type": "code",
   "execution_count": 69,
   "metadata": {},
   "outputs": [],
   "source": [
    "n_episodes = 100000\n",
    "for i in range(n_episodes):\n",
    "    GW_n.Q_learning_negstatesallowed()"
   ]
  },
  {
   "cell_type": "code",
   "execution_count": 70,
   "metadata": {},
   "outputs": [
    {
     "data": {
      "text/plain": [
       "array([[1, 1, 1, 0, 0],\n",
       "       [3, 3, 3, 3, 0],\n",
       "       [1, 1, 1, 1, 1],\n",
       "       [3, 3, 3, 3, 0]])"
      ]
     },
     "execution_count": 70,
     "metadata": {},
     "output_type": "execute_result"
    }
   ],
   "source": [
    "GW_n.optimal_policy()"
   ]
  },
  {
   "cell_type": "code",
   "execution_count": null,
   "metadata": {},
   "outputs": [],
   "source": []
  }
 ],
 "metadata": {
  "kernelspec": {
   "display_name": "Python 3",
   "language": "python",
   "name": "python3"
  },
  "language_info": {
   "codemirror_mode": {
    "name": "ipython",
    "version": 3
   },
   "file_extension": ".py",
   "mimetype": "text/x-python",
   "name": "python",
   "nbconvert_exporter": "python",
   "pygments_lexer": "ipython3",
   "version": "3.6.8"
  }
 },
 "nbformat": 4,
 "nbformat_minor": 2
}
