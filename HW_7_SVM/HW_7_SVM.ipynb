{
 "cells": [
  {
   "cell_type": "markdown",
   "metadata": {},
   "source": [
    "# Importing libraries"
   ]
  },
  {
   "cell_type": "code",
   "execution_count": 1,
   "metadata": {},
   "outputs": [],
   "source": [
    "import sklearn\n",
    "from matplotlib import pyplot as plt\n",
    "import numpy as np\n",
    "import scipy\n",
    "import pandas as pd\n",
    "from sklearn.svm import SVC\n",
    "from sklearn.model_selection import KFold"
   ]
  },
  {
   "cell_type": "markdown",
   "metadata": {},
   "source": [
    "# Data Preprocessing"
   ]
  },
  {
   "cell_type": "code",
   "execution_count": 2,
   "metadata": {},
   "outputs": [],
   "source": [
    "data = pd.read_csv(\"winequality-red.csv\", sep=';')\n",
    "data['class'] = -1\n",
    "data.loc[data.quality >= 6, 'class'] = 1\n",
    "features, labels = data.drop(['class', 'quality'], axis = 1), data['class']\n",
    "n_obj = features.shape[0]"
   ]
  },
  {
   "cell_type": "code",
   "execution_count": 3,
   "metadata": {},
   "outputs": [],
   "source": [
    "t_ind = int(n_obj * 0.6)\n",
    "x_train = features[:t_ind]\n",
    "y_train = labels[:t_ind]\n",
    "x_test = features[t_ind:]\n",
    "y_test = labels[t_ind:]"
   ]
  },
  {
   "cell_type": "markdown",
   "metadata": {},
   "source": [
    "# Part 1"
   ]
  },
  {
   "cell_type": "code",
   "execution_count": 4,
   "metadata": {},
   "outputs": [],
   "source": [
    "def scores_svm(kernel):\n",
    "    model = SVC(kernel = kernel, degree=2).fit(x_train, y_train)\n",
    "    scores = model.decision_function(x_test)\n",
    "    n_svec = len(model.support_)\n",
    "    return scores, n_svec"
   ]
  },
  {
   "cell_type": "code",
   "execution_count": 5,
   "metadata": {},
   "outputs": [],
   "source": [
    "kernels = ['linear', 'poly', 'rbf']"
   ]
  },
  {
   "cell_type": "code",
   "execution_count": 6,
   "metadata": {},
   "outputs": [
    {
     "name": "stderr",
     "output_type": "stream",
     "text": [
      "/Users/gasanoe/anaconda3/envs/py3/lib/python3.6/site-packages/sklearn/svm/base.py:196: FutureWarning: The default value of gamma will change from 'auto' to 'scale' in version 0.22 to account better for unscaled features. Set gamma explicitly to 'auto' or 'scale' to avoid this warning.\n",
      "  \"avoid this warning.\", FutureWarning)\n",
      "/Users/gasanoe/anaconda3/envs/py3/lib/python3.6/site-packages/sklearn/svm/base.py:196: FutureWarning: The default value of gamma will change from 'auto' to 'scale' in version 0.22 to account better for unscaled features. Set gamma explicitly to 'auto' or 'scale' to avoid this warning.\n",
      "  \"avoid this warning.\", FutureWarning)\n"
     ]
    },
    {
     "data": {
      "image/png": "[encoded data removed]",
      "text/plain": [
       "<Figure size 2160x720 with 3 Axes>"
      ]
     },
     "metadata": {
      "needs_background": "light"
     },
     "output_type": "display_data"
    }
   ],
   "source": [
    "n = 0\n",
    "fig, ax = plt.subplots(1, 3, sharey=True, figsize = (30, 10))\n",
    "n_svecs = dict()\n",
    "auc_roc = dict()\n",
    "for kernel in kernels:\n",
    "    scores, n_svecs[kernel] = scores_svm(kernel)\n",
    "    fpr, tpr, _ = sklearn.metrics.roc_curve(y_test, scores)\n",
    "    auc_roc[kernel] = sklearn.metrics.roc_auc_score(y_test, scores)\n",
    "    ax[n].set_title(\"ROC : {}\".format(kernel))\n",
    "    ax[n].plot(fpr, tpr)\n",
    "    n += 1\n",
    "plt.savefig(\"ROC.pdf\")"
   ]
  },
  {
   "cell_type": "code",
   "execution_count": 7,
   "metadata": {},
   "outputs": [
    {
     "data": {
      "text/plain": [
       "{'linear': 0.8233991323871545,\n",
       " 'poly': 0.8206459347156891,\n",
       " 'rbf': 0.666497343316638}"
      ]
     },
     "execution_count": 7,
     "metadata": {},
     "output_type": "execute_result"
    }
   ],
   "source": [
    "auc_roc"
   ]
  },
  {
   "cell_type": "code",
   "execution_count": 8,
   "metadata": {},
   "outputs": [
    {
     "data": {
      "text/plain": [
       "{'linear': 598, 'poly': 554, 'rbf': 800}"
      ]
     },
     "execution_count": 8,
     "metadata": {},
     "output_type": "execute_result"
    }
   ],
   "source": [
    "n_svecs"
   ]
  },
  {
   "cell_type": "markdown",
   "metadata": {},
   "source": [
    "# Part 2"
   ]
  },
  {
   "cell_type": "markdown",
   "metadata": {},
   "source": [
    "## Defining possible values of parameters "
   ]
  },
  {
   "cell_type": "code",
   "execution_count": 9,
   "metadata": {},
   "outputs": [],
   "source": [
    "Cs = [0.05, 0.1, 0.15, 0.2]\n",
    "gammas = ['scale', 0.001, 0.002]\n",
    "degrees = [2, 3, 4]\n",
    "coef0s = [0, 0.5, 1, 1.5, 2, 2.5]"
   ]
  },
  {
   "cell_type": "markdown",
   "metadata": {},
   "source": [
    "## Linear kernel"
   ]
  },
  {
   "cell_type": "code",
   "execution_count": 10,
   "metadata": {},
   "outputs": [],
   "source": [
    "kf = KFold(n_splits=5)"
   ]
  },
  {
   "cell_type": "code",
   "execution_count": 11,
   "metadata": {},
   "outputs": [],
   "source": [
    "# kf.get_n_splits(features)\n",
    "av_scores_linear = dict()\n",
    "\n",
    "for C in Cs:    \n",
    "    scores_linear = []\n",
    "    for train_index, test_index in kf.split(features):\n",
    "        X_train_k, X_test_k = features.loc[train_index], features.loc[test_index]\n",
    "        y_train_k, y_test_k = labels[train_index], labels[test_index]\n",
    "        model = SVC(kernel = 'linear', C=C).fit(X_train_k, y_train_k)\n",
    "        scores = model.decision_function(X_test_k)\n",
    "        scores_linear.append(sklearn.metrics.roc_auc_score(y_test_k, scores))\n",
    "    av_scores_linear[C] = np.mean(np.array(scores_linear))"
   ]
  },
  {
   "cell_type": "code",
   "execution_count": 12,
   "metadata": {},
   "outputs": [
    {
     "data": {
      "text/plain": [
       "{0.05: 0.7872610629157426,\n",
       " 0.1: 0.7921952731788175,\n",
       " 0.15: 0.7923900612598491,\n",
       " 0.2: 0.7931301420681582}"
      ]
     },
     "execution_count": 12,
     "metadata": {},
     "output_type": "execute_result"
    }
   ],
   "source": [
    "av_scores_linear"
   ]
  },
  {
   "cell_type": "code",
   "execution_count": 34,
   "metadata": {
    "scrolled": true
   },
   "outputs": [
    {
     "data": {
      "text/plain": [
       "0.05"
      ]
     },
     "execution_count": 34,
     "metadata": {},
     "output_type": "execute_result"
    }
   ],
   "source": [
    "min(av_scores_linear, key=av_scores_linear.get)"
   ]
  },
  {
   "cell_type": "code",
   "execution_count": 40,
   "metadata": {},
   "outputs": [
    {
     "name": "stdout",
     "output_type": "stream",
     "text": [
      "auc_roc =  0.8218650628358953\n",
      "n_svms =  604\n"
     ]
    }
   ],
   "source": [
    "model_l = SVC(kernel = 'linear', C=0.5).fit(x_train, y_train)\n",
    "scores_l = model_l.decision_function(x_test)\n",
    "auc_roc_l = sklearn.metrics.roc_auc_score(y_test, scores_l)\n",
    "print(\"auc_roc = \", auc_roc_l)\n",
    "print(\"n_svms = \", len(model_l.support_))"
   ]
  },
  {
   "cell_type": "markdown",
   "metadata": {},
   "source": [
    "## Polynomial kernel"
   ]
  },
  {
   "cell_type": "code",
   "execution_count": 13,
   "metadata": {},
   "outputs": [],
   "source": [
    "av_scores_poly = dict()"
   ]
  },
  {
   "cell_type": "code",
   "execution_count": 14,
   "metadata": {},
   "outputs": [
    {
     "name": "stdout",
     "output_type": "stream",
     "text": [
      "0.05 scale 0 2\n",
      "0.05 scale 0 3\n",
      "0.05 scale 0 4\n",
      "0.05 scale 0.5 2\n",
      "0.05 scale 0.5 3\n",
      "0.05 scale 0.5 4\n",
      "0.05 scale 1 2\n",
      "0.05 scale 1 3\n",
      "0.05 scale 1 4\n",
      "0.05 scale 1.5 2\n",
      "0.05 scale 1.5 3\n",
      "0.05 scale 1.5 4\n",
      "0.05 scale 2 2\n",
      "0.05 scale 2 3\n",
      "0.05 scale 2 4\n",
      "0.05 scale 2.5 2\n",
      "0.05 scale 2.5 3\n",
      "0.05 scale 2.5 4\n",
      "0.05 0.001 0 2\n",
      "0.05 0.001 0 3\n",
      "0.05 0.001 0 4\n",
      "0.05 0.001 0.5 2\n",
      "0.05 0.001 0.5 3\n",
      "0.05 0.001 0.5 4\n",
      "0.05 0.001 1 2\n",
      "0.05 0.001 1 3\n",
      "0.05 0.001 1 4\n",
      "0.05 0.001 1.5 2\n",
      "0.05 0.001 1.5 3\n",
      "0.05 0.001 1.5 4\n",
      "0.05 0.001 2 2\n",
      "0.05 0.001 2 3\n",
      "0.05 0.001 2 4\n",
      "0.05 0.001 2.5 2\n",
      "0.05 0.001 2.5 3\n",
      "0.05 0.001 2.5 4\n",
      "0.05 0.002 0 2\n",
      "0.05 0.002 0 3\n",
      "0.05 0.002 0 4\n",
      "0.05 0.002 0.5 2\n",
      "0.05 0.002 0.5 3\n",
      "0.05 0.002 0.5 4\n",
      "0.05 0.002 1 2\n",
      "0.05 0.002 1 3\n",
      "0.05 0.002 1 4\n",
      "0.05 0.002 1.5 2\n",
      "0.05 0.002 1.5 3\n",
      "0.05 0.002 1.5 4\n",
      "0.05 0.002 2 2\n",
      "0.05 0.002 2 3\n",
      "0.05 0.002 2 4\n",
      "0.05 0.002 2.5 2\n",
      "0.05 0.002 2.5 3\n",
      "0.05 0.002 2.5 4\n",
      "0.1 scale 0 2\n",
      "0.1 scale 0 3\n",
      "0.1 scale 0 4\n",
      "0.1 scale 0.5 2\n",
      "0.1 scale 0.5 3\n",
      "0.1 scale 0.5 4\n",
      "0.1 scale 1 2\n",
      "0.1 scale 1 3\n",
      "0.1 scale 1 4\n",
      "0.1 scale 1.5 2\n",
      "0.1 scale 1.5 3\n",
      "0.1 scale 1.5 4\n",
      "0.1 scale 2 2\n",
      "0.1 scale 2 3\n",
      "0.1 scale 2 4\n",
      "0.1 scale 2.5 2\n",
      "0.1 scale 2.5 3\n",
      "0.1 scale 2.5 4\n",
      "0.1 0.001 0 2\n",
      "0.1 0.001 0 3\n",
      "0.1 0.001 0 4\n",
      "0.1 0.001 0.5 2\n",
      "0.1 0.001 0.5 3\n",
      "0.1 0.001 0.5 4\n",
      "0.1 0.001 1 2\n",
      "0.1 0.001 1 3\n",
      "0.1 0.001 1 4\n",
      "0.1 0.001 1.5 2\n",
      "0.1 0.001 1.5 3\n",
      "0.1 0.001 1.5 4\n",
      "0.1 0.001 2 2\n",
      "0.1 0.001 2 3\n",
      "0.1 0.001 2 4\n",
      "0.1 0.001 2.5 2\n",
      "0.1 0.001 2.5 3\n",
      "0.1 0.001 2.5 4\n",
      "0.1 0.002 0 2\n",
      "0.1 0.002 0 3\n",
      "0.1 0.002 0 4\n",
      "0.1 0.002 0.5 2\n",
      "0.1 0.002 0.5 3\n",
      "0.1 0.002 0.5 4\n",
      "0.1 0.002 1 2\n",
      "0.1 0.002 1 3\n",
      "0.1 0.002 1 4\n",
      "0.1 0.002 1.5 2\n",
      "0.1 0.002 1.5 3\n",
      "0.1 0.002 1.5 4\n",
      "0.1 0.002 2 2\n",
      "0.1 0.002 2 3\n",
      "0.1 0.002 2 4\n",
      "0.1 0.002 2.5 2\n",
      "0.1 0.002 2.5 3\n",
      "0.1 0.002 2.5 4\n",
      "0.15 scale 0 2\n",
      "0.15 scale 0 3\n",
      "0.15 scale 0 4\n",
      "0.15 scale 0.5 2\n",
      "0.15 scale 0.5 3\n",
      "0.15 scale 0.5 4\n",
      "0.15 scale 1 2\n",
      "0.15 scale 1 3\n",
      "0.15 scale 1 4\n",
      "0.15 scale 1.5 2\n",
      "0.15 scale 1.5 3\n",
      "0.15 scale 1.5 4\n",
      "0.15 scale 2 2\n",
      "0.15 scale 2 3\n",
      "0.15 scale 2 4\n",
      "0.15 scale 2.5 2\n",
      "0.15 scale 2.5 3\n",
      "0.15 scale 2.5 4\n",
      "0.15 0.001 0 2\n",
      "0.15 0.001 0 3\n",
      "0.15 0.001 0 4\n",
      "0.15 0.001 0.5 2\n",
      "0.15 0.001 0.5 3\n",
      "0.15 0.001 0.5 4\n",
      "0.15 0.001 1 2\n",
      "0.15 0.001 1 3\n",
      "0.15 0.001 1 4\n",
      "0.15 0.001 1.5 2\n",
      "0.15 0.001 1.5 3\n",
      "0.15 0.001 1.5 4\n",
      "0.15 0.001 2 2\n",
      "0.15 0.001 2 3\n",
      "0.15 0.001 2 4\n",
      "0.15 0.001 2.5 2\n",
      "0.15 0.001 2.5 3\n",
      "0.15 0.001 2.5 4\n",
      "0.15 0.002 0 2\n",
      "0.15 0.002 0 3\n",
      "0.15 0.002 0 4\n",
      "0.15 0.002 0.5 2\n",
      "0.15 0.002 0.5 3\n",
      "0.15 0.002 0.5 4\n",
      "0.15 0.002 1 2\n",
      "0.15 0.002 1 3\n",
      "0.15 0.002 1 4\n",
      "0.15 0.002 1.5 2\n",
      "0.15 0.002 1.5 3\n",
      "0.15 0.002 1.5 4\n",
      "0.15 0.002 2 2\n",
      "0.15 0.002 2 3\n",
      "0.15 0.002 2 4\n",
      "0.15 0.002 2.5 2\n",
      "0.15 0.002 2.5 3\n",
      "0.15 0.002 2.5 4\n",
      "0.2 scale 0 2\n",
      "0.2 scale 0 3\n",
      "0.2 scale 0 4\n",
      "0.2 scale 0.5 2\n",
      "0.2 scale 0.5 3\n",
      "0.2 scale 0.5 4\n",
      "0.2 scale 1 2\n",
      "0.2 scale 1 3\n",
      "0.2 scale 1 4\n",
      "0.2 scale 1.5 2\n",
      "0.2 scale 1.5 3\n",
      "0.2 scale 1.5 4\n",
      "0.2 scale 2 2\n",
      "0.2 scale 2 3\n",
      "0.2 scale 2 4\n",
      "0.2 scale 2.5 2\n",
      "0.2 scale 2.5 3\n",
      "0.2 scale 2.5 4\n",
      "0.2 0.001 0 2\n",
      "0.2 0.001 0 3\n",
      "0.2 0.001 0 4\n",
      "0.2 0.001 0.5 2\n",
      "0.2 0.001 0.5 3\n",
      "0.2 0.001 0.5 4\n",
      "0.2 0.001 1 2\n",
      "0.2 0.001 1 3\n",
      "0.2 0.001 1 4\n",
      "0.2 0.001 1.5 2\n",
      "0.2 0.001 1.5 3\n",
      "0.2 0.001 1.5 4\n",
      "0.2 0.001 2 2\n",
      "0.2 0.001 2 3\n",
      "0.2 0.001 2 4\n",
      "0.2 0.001 2.5 2\n",
      "0.2 0.001 2.5 3\n",
      "0.2 0.001 2.5 4\n",
      "0.2 0.002 0 2\n",
      "0.2 0.002 0 3\n",
      "0.2 0.002 0 4\n",
      "0.2 0.002 0.5 2\n",
      "0.2 0.002 0.5 3\n",
      "0.2 0.002 0.5 4\n",
      "0.2 0.002 1 2\n",
      "0.2 0.002 1 3\n",
      "0.2 0.002 1 4\n",
      "0.2 0.002 1.5 2\n",
      "0.2 0.002 1.5 3\n",
      "0.2 0.002 1.5 4\n",
      "0.2 0.002 2 2\n",
      "0.2 0.002 2 3\n",
      "0.2 0.002 2 4\n",
      "0.2 0.002 2.5 2\n",
      "0.2 0.002 2.5 3\n",
      "0.2 0.002 2.5 4\n"
     ]
    }
   ],
   "source": [
    "for C in Cs:\n",
    "    for gamma in gammas:\n",
    "        for coef0 in coef0s:\n",
    "            for degree in degrees:\n",
    "                scores_ = []\n",
    "                for train_index, test_index in kf.split(features):\n",
    "                    X_train_k, X_test_k = features.loc[train_index], features.loc[test_index]\n",
    "                    y_train_k, y_test_k = labels[train_index], labels[test_index]\n",
    "                    model = SVC(kernel = 'poly', C=C, gamma=gamma, coef0=coef0, degree=degree).fit(X_train_k, y_train_k)\n",
    "                    scores = model.decision_function(X_test_k)\n",
    "                    scores_.append(sklearn.metrics.roc_auc_score(y_test_k, scores))\n",
    "                print(C, gamma, coef0, degree)\n",
    "                av_scores_poly[(C, gamma, coef0, degree)] = np.mean(np.array(scores_))"
   ]
  },
  {
   "cell_type": "code",
   "execution_count": 15,
   "metadata": {},
   "outputs": [
    {
     "data": {
      "text/plain": [
       "{(0.05, 'scale', 0, 2): 0.6432106716435179,\n",
       " (0.05, 'scale', 0, 3): 0.6203515837400793,\n",
       " (0.05, 'scale', 0, 4): 0.6286689770048526,\n",
       " (0.05, 'scale', 0.5, 2): 0.6477077891167322,\n",
       " (0.05, 'scale', 0.5, 3): 0.6584577963198803,\n",
       " (0.05, 'scale', 0.5, 4): 0.6844083046797491,\n",
       " (0.05, 'scale', 1, 2): 0.6523961671199667,\n",
       " (0.05, 'scale', 1, 3): 0.6774163357482623,\n",
       " (0.05, 'scale', 1, 4): 0.7085771375664631,\n",
       " (0.05, 'scale', 1.5, 2): 0.656220518371482,\n",
       " (0.05, 'scale', 1.5, 3): 0.6908676939166379,\n",
       " (0.05, 'scale', 1.5, 4): 0.7245735528438738,\n",
       " (0.05, 'scale', 2, 2): 0.6598695352636105,\n",
       " (0.05, 'scale', 2, 3): 0.7038531438489914,\n",
       " (0.05, 'scale', 2, 4): 0.7400475776740238,\n",
       " (0.05, 'scale', 2.5, 2): 0.6625095266960901,\n",
       " (0.05, 'scale', 2.5, 3): 0.7146718505140068,\n",
       " (0.05, 'scale', 2.5, 4): 0.75433017424747,\n",
       " (0.05, 0.001, 0, 2): 0.6932082753537678,\n",
       " (0.05, 0.001, 0, 3): 0.7058182156528471,\n",
       " (0.05, 0.001, 0, 4): 0.7141171947030402,\n",
       " (0.05, 0.001, 0.5, 2): 0.6915594578899746,\n",
       " (0.05, 0.001, 0.5, 3): 0.7288737862535412,\n",
       " (0.05, 0.001, 0.5, 4): 0.7396297292340019,\n",
       " (0.05, 0.001, 1, 2): 0.6948863182183042,\n",
       " (0.05, 0.001, 1, 3): 0.738790056059109,\n",
       " (0.05, 0.001, 1, 4): 0.7542974456675865,\n",
       " (0.05, 0.001, 1.5, 2): 0.6987726303276839,\n",
       " (0.05, 0.001, 1.5, 3): 0.7460007911347701,\n",
       " (0.05, 0.001, 1.5, 4): 0.7641690565932915,\n",
       " (0.05, 0.001, 2, 2): 0.7029712801838833,\n",
       " (0.05, 0.001, 2, 3): 0.7546347197921321,\n",
       " (0.05, 0.001, 2, 4): 0.7714189119165697,\n",
       " (0.05, 0.001, 2.5, 2): 0.7071601808474905,\n",
       " (0.05, 0.001, 2.5, 3): 0.7616175686881342,\n",
       " (0.05, 0.001, 2.5, 4): 0.7763461667217116,\n",
       " (0.05, 0.002, 0, 2): 0.7115921468795515,\n",
       " (0.05, 0.002, 0, 3): 0.7404266323191516,\n",
       " (0.05, 0.002, 0, 4): 0.7464680294805778,\n",
       " (0.05, 0.002, 0.5, 2): 0.7276182935045201,\n",
       " (0.05, 0.002, 0.5, 3): 0.7566423961033694,\n",
       " (0.05, 0.002, 0.5, 4): 0.7638597558225914,\n",
       " (0.05, 0.002, 1, 2): 0.7338660719982024,\n",
       " (0.05, 0.002, 1, 3): 0.7635627771367409,\n",
       " (0.05, 0.002, 1, 4): 0.7665476982461064,\n",
       " (0.05, 0.002, 1.5, 2): 0.738453747192805,\n",
       " (0.05, 0.002, 1.5, 3): 0.7702319149859147,\n",
       " (0.05, 0.002, 1.5, 4): 0.7726153340641849,\n",
       " (0.05, 0.002, 2, 2): 0.7417515912968937,\n",
       " (0.05, 0.002, 2, 3): 0.7742442842732448,\n",
       " (0.05, 0.002, 2, 4): 0.7735923393414621,\n",
       " (0.05, 0.002, 2.5, 2): 0.7448542375999966,\n",
       " (0.05, 0.002, 2.5, 3): 0.777164657038535,\n",
       " (0.05, 0.002, 2.5, 4): 0.7756423583517884,\n",
       " (0.1, 'scale', 0, 2): 0.6574134650521688,\n",
       " (0.1, 'scale', 0, 3): 0.6286833997811065,\n",
       " (0.1, 'scale', 0, 4): 0.6523243431453706,\n",
       " (0.1, 'scale', 0.5, 2): 0.6602630495242178,\n",
       " (0.1, 'scale', 0.5, 3): 0.6788726735847352,\n",
       " (0.1, 'scale', 0.5, 4): 0.6998415571127085,\n",
       " (0.1, 'scale', 1, 2): 0.6648348531524442,\n",
       " (0.1, 'scale', 1, 3): 0.6974986619618231,\n",
       " (0.1, 'scale', 1, 4): 0.7232723798390095,\n",
       " (0.1, 'scale', 1.5, 2): 0.6701459327385557,\n",
       " (0.1, 'scale', 1.5, 3): 0.7143892591006014,\n",
       " (0.1, 'scale', 1.5, 4): 0.7409272882220094,\n",
       " (0.1, 'scale', 2, 2): 0.6746377742218025,\n",
       " (0.1, 'scale', 2, 3): 0.724490770992398,\n",
       " (0.1, 'scale', 2, 4): 0.7573546641736445,\n",
       " (0.1, 'scale', 2.5, 2): 0.6786347909115209,\n",
       " (0.1, 'scale', 2.5, 3): 0.7342976030424107,\n",
       " (0.1, 'scale', 2.5, 4): 0.7677548843315355,\n",
       " (0.1, 0.001, 0, 2): 0.7000775966612787,\n",
       " (0.1, 0.001, 0, 3): 0.7189684752998202,\n",
       " (0.1, 0.001, 0, 4): 0.7240332802614542,\n",
       " (0.1, 0.001, 0.5, 2): 0.7114503013550622,\n",
       " (0.1, 0.001, 0.5, 3): 0.7431932959627354,\n",
       " (0.1, 0.001, 0.5, 4): 0.7482809002577232,\n",
       " (0.1, 0.001, 1, 2): 0.7183098074956782,\n",
       " (0.1, 0.001, 1, 3): 0.7549854000247063,\n",
       " (0.1, 0.001, 1, 4): 0.764159188910369,\n",
       " (0.1, 0.001, 1.5, 2): 0.7233550873331519,\n",
       " (0.1, 0.001, 1.5, 3): 0.7619694047887454,\n",
       " (0.1, 0.001, 1.5, 4): 0.7703888626317206,\n",
       " (0.1, 0.001, 2, 2): 0.7289170775887361,\n",
       " (0.1, 0.001, 2, 3): 0.7676489328880399,\n",
       " (0.1, 0.001, 2, 4): 0.7748050776830041,\n",
       " (0.1, 0.001, 2.5, 2): 0.7328383032039959,\n",
       " (0.1, 0.001, 2.5, 3): 0.7711411206510468,\n",
       " (0.1, 0.001, 2.5, 4): 0.775228688705602,\n",
       " (0.1, 0.002, 0, 2): 0.7277959074905882,\n",
       " (0.1, 0.002, 0, 3): 0.7520970449401734,\n",
       " (0.1, 0.002, 0, 4): 0.7565669313283003,\n",
       " (0.1, 0.002, 0.5, 2): 0.7519206246221147,\n",
       " (0.1, 0.002, 0.5, 3): 0.7652806402180371,\n",
       " (0.1, 0.002, 0.5, 4): 0.7617623946718173,\n",
       " (0.1, 0.002, 1, 2): 0.7557022626118802,\n",
       " (0.1, 0.002, 1, 3): 0.7724176532234309,\n",
       " (0.1, 0.002, 1, 4): 0.7729791191838338,\n",
       " (0.1, 0.002, 1.5, 2): 0.7578337279332434,\n",
       " (0.1, 0.002, 1.5, 3): 0.7772874704601203,\n",
       " (0.1, 0.002, 1.5, 4): 0.7745056321417386,\n",
       " (0.1, 0.002, 2, 2): 0.7601769343783238,\n",
       " (0.1, 0.002, 2, 3): 0.782125587505546,\n",
       " (0.1, 0.002, 2, 4): 0.7770655866401691,\n",
       " (0.1, 0.002, 2.5, 2): 0.7631032705775833,\n",
       " (0.1, 0.002, 2.5, 3): 0.7827305764517603,\n",
       " (0.1, 0.002, 2.5, 4): 0.7816303269876681,\n",
       " (0.15, 'scale', 0, 2): 0.6654474268250583,\n",
       " (0.15, 'scale', 0, 3): 0.63619113145246,\n",
       " (0.15, 'scale', 0, 4): 0.6600751073028337,\n",
       " (0.15, 'scale', 0.5, 2): 0.6679278906891412,\n",
       " (0.15, 'scale', 0.5, 3): 0.6891850579055429,\n",
       " (0.15, 'scale', 0.5, 4): 0.7088936957725224,\n",
       " (0.15, 'scale', 1, 2): 0.6740219909919702,\n",
       " (0.15, 'scale', 1, 3): 0.7109078302869462,\n",
       " (0.15, 'scale', 1, 4): 0.7317741621539929,\n",
       " (0.15, 'scale', 1.5, 2): 0.6798776834541139,\n",
       " (0.15, 'scale', 1.5, 3): 0.7246669114396777,\n",
       " (0.15, 'scale', 1.5, 4): 0.7516203703137784,\n",
       " (0.15, 'scale', 2, 2): 0.6849701383430469,\n",
       " (0.15, 'scale', 2, 3): 0.7361366519543541,\n",
       " (0.15, 'scale', 2, 4): 0.7655800847466648,\n",
       " (0.15, 'scale', 2.5, 2): 0.6902794171856796,\n",
       " (0.15, 'scale', 2.5, 3): 0.7464278002458405,\n",
       " (0.15, 'scale', 2.5, 4): 0.7718726178897639,\n",
       " (0.15, 0.001, 0, 2): 0.7056394195847506,\n",
       " (0.15, 0.001, 0, 3): 0.7217430373032517,\n",
       " (0.15, 0.001, 0, 4): 0.7280450427663366,\n",
       " (0.15, 0.001, 0.5, 2): 0.7237866692343518,\n",
       " (0.15, 0.001, 0.5, 3): 0.7518711230454251,\n",
       " (0.15, 0.001, 0.5, 4): 0.7552320249281333,\n",
       " (0.15, 0.001, 1, 2): 0.7330297289506986,\n",
       " (0.15, 0.001, 1, 3): 0.7598170945762277,\n",
       " (0.15, 0.001, 1, 4): 0.7679617933904292,\n",
       " (0.15, 0.001, 1.5, 2): 0.7377548786325093,\n",
       " (0.15, 0.001, 1.5, 3): 0.7677040531613606,\n",
       " (0.15, 0.001, 1.5, 4): 0.7734184933669066,\n",
       " (0.15, 0.001, 2, 2): 0.7423878398261355,\n",
       " (0.15, 0.001, 2, 3): 0.7724641995048831,\n",
       " (0.15, 0.001, 2, 4): 0.7743336785390975,\n",
       " (0.15, 0.001, 2.5, 2): 0.7463265088799504,\n",
       " (0.15, 0.001, 2.5, 3): 0.7769888293698843,\n",
       " (0.15, 0.001, 2.5, 4): 0.778347013167544,\n",
       " (0.15, 0.002, 0, 2): 0.7365353546593414,\n",
       " (0.15, 0.002, 0, 3): 0.7585097229525658,\n",
       " (0.15, 0.002, 0, 4): 0.7604091458505732,\n",
       " (0.15, 0.002, 0.5, 2): 0.7605528438530627,\n",
       " (0.15, 0.002, 0.5, 3): 0.7705487605182362,\n",
       " (0.15, 0.002, 0.5, 4): 0.7688950196190314,\n",
       " (0.15, 0.002, 1, 2): 0.764013957974749,\n",
       " (0.15, 0.002, 1, 3): 0.7766398008085407,\n",
       " (0.15, 0.002, 1, 4): 0.7755354935352822,\n",
       " (0.15, 0.002, 1.5, 2): 0.7667420693319102,\n",
       " (0.15, 0.002, 1.5, 3): 0.7816486883006155,\n",
       " (0.15, 0.002, 1.5, 4): 0.7766506570961818,\n",
       " (0.15, 0.002, 2, 2): 0.768346152508433,\n",
       " (0.15, 0.002, 2, 3): 0.7824378066617024,\n",
       " (0.15, 0.002, 2, 4): 0.7815698277514173,\n",
       " (0.15, 0.002, 2.5, 2): 0.7696750696013803,\n",
       " (0.15, 0.002, 2.5, 3): 0.7841078864347356,\n",
       " (0.15, 0.002, 2.5, 4): 0.784139808939772,\n",
       " (0.2, 'scale', 0, 2): 0.6721267297615998,\n",
       " (0.2, 'scale', 0, 3): 0.6445294143705607,\n",
       " (0.2, 'scale', 0, 4): 0.6654862220733991,\n",
       " (0.2, 'scale', 0.5, 2): 0.6737838693026689,\n",
       " (0.2, 'scale', 0.5, 3): 0.6982712325755059,\n",
       " (0.2, 'scale', 0.5, 4): 0.7149774129944284,\n",
       " (0.2, 'scale', 1, 2): 0.6814615221678694,\n",
       " (0.2, 'scale', 1, 3): 0.7194540010565339,\n",
       " (0.2, 'scale', 1, 4): 0.7389387920312676,\n",
       " (0.2, 'scale', 1.5, 2): 0.6878124847926255,\n",
       " (0.2, 'scale', 1.5, 3): 0.732381622879186,\n",
       " (0.2, 'scale', 1.5, 4): 0.7579738557590638,\n",
       " (0.2, 'scale', 2, 2): 0.6946756202602968,\n",
       " (0.2, 'scale', 2, 3): 0.743902888786612,\n",
       " (0.2, 'scale', 2, 4): 0.7688238995891561,\n",
       " (0.2, 'scale', 2.5, 2): 0.7004390116964405,\n",
       " (0.2, 'scale', 2.5, 3): 0.7547457268184751,\n",
       " (0.2, 'scale', 2.5, 4): 0.775603845812158,\n",
       " (0.2, 0.001, 0, 2): 0.7115921468795515,\n",
       " (0.2, 0.001, 0, 3): 0.726910118474958,\n",
       " (0.2, 0.001, 0, 4): 0.7316722049295394,\n",
       " (0.2, 0.001, 0.5, 2): 0.7338660719982024,\n",
       " (0.2, 0.001, 0.5, 3): 0.7560828792566997,\n",
       " (0.2, 0.001, 0.5, 4): 0.7603739885113356,\n",
       " (0.2, 0.001, 1, 2): 0.7417515912968937,\n",
       " (0.2, 0.001, 1, 3): 0.7648674009777616,\n",
       " (0.2, 0.001, 1, 4): 0.7704691534487172,\n",
       " (0.2, 0.001, 1.5, 2): 0.7474383038141602,\n",
       " (0.2, 0.001, 1.5, 3): 0.7721908972127297,\n",
       " (0.2, 0.001, 1.5, 4): 0.7738220594473495,\n",
       " (0.2, 0.001, 2, 2): 0.7519336693679357,\n",
       " (0.2, 0.001, 2, 3): 0.7769963101108301,\n",
       " (0.2, 0.001, 2, 4): 0.776148817743566,\n",
       " (0.2, 0.001, 2.5, 2): 0.755477813641148,\n",
       " (0.2, 0.001, 2.5, 3): 0.780037504574282,\n",
       " (0.2, 0.001, 2.5, 4): 0.7797321562913011,\n",
       " (0.2, 0.002, 0, 2): 0.7449056171775,\n",
       " (0.2, 0.002, 0, 3): 0.7610263880861975,\n",
       " (0.2, 0.002, 0, 4): 0.7606637349655646,\n",
       " (0.2, 0.002, 0.5, 2): 0.7656211079430705,\n",
       " (0.2, 0.002, 0.5, 3): 0.774589127719066,\n",
       " (0.2, 0.002, 0.5, 4): 0.7710549932953972,\n",
       " (0.2, 0.002, 1, 2): 0.7676803359608549,\n",
       " (0.2, 0.002, 1, 3): 0.78045523906355,\n",
       " (0.2, 0.002, 1, 4): 0.776177746411476,\n",
       " (0.2, 0.002, 1.5, 2): 0.7703493323272839,\n",
       " (0.2, 0.002, 1.5, 3): 0.7831449496082452,\n",
       " (0.2, 0.002, 1.5, 4): 0.779361207120073,\n",
       " (0.2, 0.002, 2, 2): 0.770946871410265,\n",
       " (0.2, 0.002, 2, 3): 0.783862733279207,\n",
       " (0.2, 0.002, 2, 4): 0.7831553333789014,\n",
       " (0.2, 0.002, 2.5, 2): 0.7714810099833483,\n",
       " (0.2, 0.002, 2.5, 3): 0.785070991257008,\n",
       " (0.2, 0.002, 2.5, 4): 0.7864612001493765}"
      ]
     },
     "execution_count": 15,
     "metadata": {},
     "output_type": "execute_result"
    }
   ],
   "source": [
    "av_scores_poly"
   ]
  },
  {
   "cell_type": "code",
   "execution_count": 18,
   "metadata": {},
   "outputs": [
    {
     "data": {
      "text/plain": [
       "(0.05, 'scale', 0, 3)"
      ]
     },
     "execution_count": 18,
     "metadata": {},
     "output_type": "execute_result"
    }
   ],
   "source": [
    "min(av_scores_poly, key=av_scores_poly.get)"
   ]
  },
  {
   "cell_type": "code",
   "execution_count": 42,
   "metadata": {},
   "outputs": [
    {
     "name": "stdout",
     "output_type": "stream",
     "text": [
      "auc_roc =  0.6159441639320945\n",
      "n_svms =  808\n"
     ]
    }
   ],
   "source": [
    "model_poly = SVC(kernel = 'poly', C=0.05, gamma='scale', coef0=0, degree=3).fit(x_train, y_train)\n",
    "scores_poly = model_poly.decision_function(x_test)\n",
    "auc_roc_poly = sklearn.metrics.roc_auc_score(y_test, scores_poly)\n",
    "print(\"auc_roc = \", auc_roc_poly)\n",
    "print(\"n_svms = \", len(model_poly.support_))"
   ]
  },
  {
   "cell_type": "markdown",
   "metadata": {},
   "source": [
    "## RBF kernel"
   ]
  },
  {
   "cell_type": "code",
   "execution_count": 29,
   "metadata": {},
   "outputs": [],
   "source": [
    "av_scores_rbf = dict()"
   ]
  },
  {
   "cell_type": "code",
   "execution_count": 30,
   "metadata": {},
   "outputs": [],
   "source": [
    "for C in Cs:\n",
    "    for gamma in gammas:\n",
    "        scores_ = []\n",
    "        for train_index, test_index in kf.split(features):\n",
    "            X_train_k, X_test_k = features.loc[train_index], features.loc[test_index]\n",
    "            y_train_k, y_test_k = labels[train_index], labels[test_index]\n",
    "            model = SVC(kernel = 'poly', C=C, gamma=gamma, coef0=coef0, degree=degree).fit(X_train_k, y_train_k)\n",
    "            scores = model.decision_function(X_test_k)\n",
    "            scores_.append(sklearn.metrics.roc_auc_score(y_test_k, scores))\n",
    "        av_scores_rbf[(C, gamma)] = np.mean(np.array(scores_))"
   ]
  },
  {
   "cell_type": "code",
   "execution_count": 31,
   "metadata": {},
   "outputs": [
    {
     "data": {
      "text/plain": [
       "{(0.05, 'scale'): 0.75433017424747,\n",
       " (0.05, 0.001): 0.7763461667217116,\n",
       " (0.05, 0.002): 0.7756423583517884,\n",
       " (0.1, 'scale'): 0.7677548843315355,\n",
       " (0.1, 0.001): 0.775228688705602,\n",
       " (0.1, 0.002): 0.7816303269876681,\n",
       " (0.15, 'scale'): 0.7718726178897639,\n",
       " (0.15, 0.001): 0.778347013167544,\n",
       " (0.15, 0.002): 0.784139808939772,\n",
       " (0.2, 'scale'): 0.775603845812158,\n",
       " (0.2, 0.001): 0.7797321562913011,\n",
       " (0.2, 0.002): 0.7864612001493765}"
      ]
     },
     "execution_count": 31,
     "metadata": {},
     "output_type": "execute_result"
    }
   ],
   "source": [
    "av_scores_rbf"
   ]
  },
  {
   "cell_type": "code",
   "execution_count": 32,
   "metadata": {
    "scrolled": true
   },
   "outputs": [
    {
     "data": {
      "text/plain": [
       "(0.05, 'scale')"
      ]
     },
     "execution_count": 32,
     "metadata": {},
     "output_type": "execute_result"
    }
   ],
   "source": [
    "min(av_scores_rbf, key=av_scores_rbf.get)"
   ]
  },
  {
   "cell_type": "code",
   "execution_count": 43,
   "metadata": {},
   "outputs": [
    {
     "name": "stdout",
     "output_type": "stream",
     "text": [
      "auc_roc =  0.6001462953744247\n",
      "n_svms =  830\n"
     ]
    }
   ],
   "source": [
    "model_rbf = SVC(kernel = 'rbf', C=0.05, gamma='scale').fit(x_train, y_train)\n",
    "scores_rbf = model_rbf.decision_function(x_test)\n",
    "auc_roc_rbf = sklearn.metrics.roc_auc_score(y_test, scores_rbf)\n",
    "print(\"auc_roc = \", auc_roc_rbf)\n",
    "print(\"n_svms = \", len(model_rbf.support_))"
   ]
  },
  {
   "cell_type": "markdown",
   "metadata": {},
   "source": [
    "## ROC curves"
   ]
  },
  {
   "cell_type": "code",
   "execution_count": 44,
   "metadata": {},
   "outputs": [
    {
     "data": {
      "image/png": "[encoded data removed]",
      "text/plain": [
       "<Figure size 2160x720 with 3 Axes>"
      ]
     },
     "metadata": {
      "needs_background": "light"
     },
     "output_type": "display_data"
    }
   ],
   "source": [
    "n = 0\n",
    "fig, ax = plt.subplots(1, 3, sharey=True, figsize = (30, 10))\n",
    "fpr_l, tpr_l, _ = sklearn.metrics.roc_curve(y_test, scores_l)\n",
    "fpr_poly, tpr_poly, _ = sklearn.metrics.roc_curve(y_test, scores_poly)\n",
    "fpr_rbf, tpr_rbf, _ = sklearn.metrics.roc_curve(y_test, scores_rbf)\n",
    "ax[0].set_title(\"ROC : linear\")\n",
    "ax[0].plot(fpr_l, tpr_l)\n",
    "ax[1].set_title(\"ROC : polynomial\")\n",
    "ax[1].plot(fpr_poly, tpr_poly)\n",
    "ax[2].set_title(\"ROC : rbf\")\n",
    "ax[2].plot(fpr_rbf, tpr_rbf)\n",
    "plt.savefig(\"ROC_kfold.pdf\")"
   ]
  },
  {
   "cell_type": "code",
   "execution_count": null,
   "metadata": {},
   "outputs": [],
   "source": []
  }
 ],
 "metadata": {
  "kernelspec": {
   "display_name": "Python 3",
   "language": "python",
   "name": "python3"
  },
  "language_info": {
   "codemirror_mode": {
    "name": "ipython",
    "version": 3
   },
   "file_extension": ".py",
   "mimetype": "text/x-python",
   "name": "python",
   "nbconvert_exporter": "python",
   "pygments_lexer": "ipython3",
   "version": "3.6.8"
  }
 },
 "nbformat": 4,
 "nbformat_minor": 2
}
