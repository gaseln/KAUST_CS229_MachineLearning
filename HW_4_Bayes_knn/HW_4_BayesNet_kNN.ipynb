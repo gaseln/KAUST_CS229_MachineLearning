{
 "cells": [
  {
   "cell_type": "markdown",
   "metadata": {},
   "source": [
    "# Importing packages"
   ]
  },
  {
   "cell_type": "code",
   "execution_count": 1,
   "metadata": {},
   "outputs": [],
   "source": [
    "import numpy as np\n",
    "from matplotlib import pyplot as plt\n",
    "%matplotlib inline"
   ]
  },
  {
   "cell_type": "markdown",
   "metadata": {},
   "source": [
    "# Defining functions for kNN classifier"
   ]
  },
  {
   "cell_type": "code",
   "execution_count": 2,
   "metadata": {},
   "outputs": [],
   "source": [
    "def knn_on_object(x, k:int, features, labels, n_class):\n",
    "    n_objects = features.shape[0]\n",
    "    distances = []\n",
    "    for i in range(n_objects):\n",
    "            distances.append((np.linalg.norm(features[i] - x), i))            \n",
    "    distances.sort(key = lambda d: d[0])\n",
    "    class_vote = np.zeros(n_class, )\n",
    "    for i in range(k):\n",
    "        class_vote[int(labels[distances[i][1]])] += 1\n",
    "    max_class = np.argmax(class_vote)\n",
    "    return max_class"
   ]
  },
  {
   "cell_type": "code",
   "execution_count": 3,
   "metadata": {},
   "outputs": [],
   "source": [
    "def knn_err_on_set(k:int, test_features, test_labels, features, labels, n_class):\n",
    "    n_objects = test_features.shape[0]\n",
    "    err = 0\n",
    "    for i in range(n_objects):\n",
    "        label = test_labels[i]\n",
    "        feature = test_features[i]\n",
    "        if int(label) != knn_on_object(feature, k, features, labels, n_class):\n",
    "            err += 1\n",
    "    return err"
   ]
  },
  {
   "cell_type": "markdown",
   "metadata": {},
   "source": [
    "# Defining functions for Parzen–Rosenblatt window classifier"
   ]
  },
  {
   "cell_type": "code",
   "execution_count": 4,
   "metadata": {},
   "outputs": [],
   "source": [
    "def parzen_kernel(t):\n",
    "    return 1.01-t"
   ]
  },
  {
   "cell_type": "code",
   "execution_count": 5,
   "metadata": {},
   "outputs": [],
   "source": [
    "def parzen_window_on_object(x, k:int, features, labels, n_class):\n",
    "    n_objects = features.shape[0]\n",
    "    distances = []\n",
    "    for i in range(n_objects):\n",
    "        distances.append((np.linalg.norm(features[i] - x), i))            \n",
    "    distances.sort(key = lambda d: d[0])\n",
    "    h = distances[k-1][0]\n",
    "    class_vote = np.zeros(n_class, )\n",
    "    for i in range(k):\n",
    "        curr_label = int(labels[distances[i][1]])\n",
    "        curr_dist = distances[i][0]\n",
    "        class_vote[curr_label] += parzen_kernel(curr_dist/h)\n",
    "    max_class = np.argmax(class_vote)\n",
    "    return max_class"
   ]
  },
  {
   "cell_type": "code",
   "execution_count": 6,
   "metadata": {},
   "outputs": [],
   "source": [
    "def parzen_window_err_on_set(k:int, test_features, test_labels, features, labels, n_class):\n",
    "    n_objects = test_features.shape[0]\n",
    "    err = 0\n",
    "    for i in range(n_objects):\n",
    "        feature = test_features[i]\n",
    "        label = labels[i]\n",
    "        if int(label) != parzen_window_on_object(feature, k, features, labels, n_class):\n",
    "            err += 1\n",
    "    return err"
   ]
  },
  {
   "cell_type": "markdown",
   "metadata": {},
   "source": [
    "# Binary classification"
   ]
  },
  {
   "cell_type": "markdown",
   "metadata": {},
   "source": [
    "## Reading and Normalizing Data"
   ]
  },
  {
   "cell_type": "code",
   "execution_count": 7,
   "metadata": {},
   "outputs": [],
   "source": [
    "def extract_data(filename):\n",
    "    data = np.loadtxt(filename)\n",
    "    labels = data[:, 0]\n",
    "    features = data[:, np.arange(1, data.shape[1])]\n",
    "    mean_features = np.mean(features, axis=0)\n",
    "    rev_std_features = [1.0/x for x in np.std(features, axis=0)]\n",
    "    features = np.array([np.multiply(x - mean_features, rev_std_features) for x in features])\n",
    "    return features, labels"
   ]
  },
  {
   "cell_type": "code",
   "execution_count": 8,
   "metadata": {},
   "outputs": [],
   "source": [
    "features, labels = extract_data('logreg_data_binary.txt')\n",
    "test_features, test_labels = extract_data('test_data_binary.txt')"
   ]
  },
  {
   "cell_type": "markdown",
   "metadata": {},
   "source": [
    "## kNN"
   ]
  },
  {
   "cell_type": "code",
   "execution_count": 9,
   "metadata": {},
   "outputs": [],
   "source": [
    "K_max = 99\n",
    "errors_knn_bin = np.zeros(K_max, )\n",
    "for i in range(1, K_max + 1):\n",
    "    errors_knn_bin[i-1] = knn_err_on_set(i, test_features, test_labels, features, labels, 2)"
   ]
  },
  {
   "cell_type": "code",
   "execution_count": 11,
   "metadata": {},
   "outputs": [
    {
     "data": {
      "image/png": "[encoded data removed]",
      "text/plain": [
       "<Figure size 576x576 with 1 Axes>"
      ]
     },
     "metadata": {},
     "output_type": "display_data"
    }
   ],
   "source": [
    "plt.figure(figsize = (8,8))\n",
    "plt.scatter(np.arange(1, K_max+1), errors_knn_bin)\n",
    "plt.ylabel(\"error\")\n",
    "plt.xlabel(\"k\")\n",
    "plt.title(\"kNN error on the training data\")\n",
    "plt.savefig(\"kNN-bin.eps\")"
   ]
  },
  {
   "cell_type": "code",
   "execution_count": 12,
   "metadata": {},
   "outputs": [
    {
     "name": "stdout",
     "output_type": "stream",
     "text": [
      "Optimal k is 22\n",
      "Number of correctly predicted objects is 52 out of 70\n"
     ]
    }
   ],
   "source": [
    "optimal_k_knn_bin = np.argmin(errors_knn_bin) + 1\n",
    "print(\"Optimal k is\", optimal_k_knn_bin)\n",
    "print(\"Number of correctly predicted objects is\", int(test_features.shape[0]-errors_knn_bin[optimal_k_knn_bin-1]), \"out of\",\n",
    "      test_features.shape[0] )"
   ]
  },
  {
   "cell_type": "markdown",
   "metadata": {},
   "source": [
    "## Determining optimal k in PR window method"
   ]
  },
  {
   "cell_type": "code",
   "execution_count": 13,
   "metadata": {},
   "outputs": [],
   "source": [
    "K_max = 99\n",
    "errors_pr_bin = np.zeros(K_max, )\n",
    "for i in range(1, K_max + 1):\n",
    "    errors_pr_bin[i-1] = parzen_window_err_on_set(i, test_features, test_labels, features, labels, 2)"
   ]
  },
  {
   "cell_type": "code",
   "execution_count": 14,
   "metadata": {},
   "outputs": [
    {
     "data": {
      "image/png": "[encoded data removed]",
      "text/plain": [
       "<Figure size 576x576 with 1 Axes>"
      ]
     },
     "metadata": {},
     "output_type": "display_data"
    }
   ],
   "source": [
    "plt.figure(figsize = (8,8))\n",
    "plt.scatter(np.arange(1, K_max+1), errors_pr_bin)\n",
    "plt.ylabel(\"error\")\n",
    "plt.xlabel(\"k\")\n",
    "plt.title(\"PR window method error on the training data\")\n",
    "plt.savefig(\"pr_bin.eps\")"
   ]
  },
  {
   "cell_type": "code",
   "execution_count": 15,
   "metadata": {},
   "outputs": [
    {
     "name": "stdout",
     "output_type": "stream",
     "text": [
      "Optimal k is 3\n",
      "Number of correctly predicted objects is 45 out of 70\n"
     ]
    }
   ],
   "source": [
    "optimal_k_pr_bin = np.argmin(errors_pr_bin) + 1\n",
    "print(\"Optimal k is\", optimal_k_pr_bin)\n",
    "print(\"Number of correctly predicted objects is\", int(test_features.shape[0]-errors_pr_bin[optimal_k_pr_bin-1]), \"out of\",\n",
    "      test_features.shape[0] )"
   ]
  },
  {
   "cell_type": "markdown",
   "metadata": {},
   "source": [
    "# 3 class"
   ]
  },
  {
   "cell_type": "markdown",
   "metadata": {},
   "source": [
    "## Reading and Normalizing Data"
   ]
  },
  {
   "cell_type": "code",
   "execution_count": 16,
   "metadata": {},
   "outputs": [],
   "source": [
    "features, labels = extract_data('logreg_data_3class.txt')\n",
    "test_features, test_labels = extract_data('test_data_3class.txt')"
   ]
  },
  {
   "cell_type": "markdown",
   "metadata": {},
   "source": [
    "## Determining optimal k in kNN"
   ]
  },
  {
   "cell_type": "code",
   "execution_count": 17,
   "metadata": {},
   "outputs": [],
   "source": [
    "K_max = 119\n",
    "errors_knn_mclass = np.zeros(K_max, )\n",
    "for i in range(1, K_max + 1):\n",
    "    errors_knn_mclass[i-1] = knn_err_on_set(i, test_features, test_labels, features, labels, 3)"
   ]
  },
  {
   "cell_type": "code",
   "execution_count": 18,
   "metadata": {},
   "outputs": [
    {
     "data": {
      "image/png": "[encoded data removed]",
      "text/plain": [
       "<Figure size 576x576 with 1 Axes>"
      ]
     },
     "metadata": {},
     "output_type": "display_data"
    }
   ],
   "source": [
    "plt.figure(figsize = (8,8))\n",
    "plt.scatter(np.arange(1, K_max+1), errors_knn_mclass)\n",
    "plt.ylabel(\"error\")\n",
    "plt.xlabel(\"k\")\n",
    "plt.title(\"kNN error on the training data\")\n",
    "plt.savefig(\"kNN-mclass.eps\")"
   ]
  },
  {
   "cell_type": "code",
   "execution_count": 19,
   "metadata": {},
   "outputs": [
    {
     "name": "stdout",
     "output_type": "stream",
     "text": [
      "Optimal k is 11\n",
      "Number of correctly predicted objects is 62 out of 120\n"
     ]
    }
   ],
   "source": [
    "optimal_k_knn_mclass = np.argmin(errors_knn_mclass) + 1\n",
    "print(\"Optimal k is\", optimal_k_knn_mclass)\n",
    "print(\"Number of correctly predicted objects is\", int(test_features.shape[0]-errors_knn_mclass[optimal_k_knn_mclass-1]), \"out of\",\n",
    "      test_features.shape[0] )"
   ]
  },
  {
   "cell_type": "markdown",
   "metadata": {},
   "source": [
    "## Determining optimal k in PR window method"
   ]
  },
  {
   "cell_type": "code",
   "execution_count": 20,
   "metadata": {},
   "outputs": [],
   "source": [
    "K_max = 119\n",
    "errors_pr_mclass = np.zeros(K_max, )\n",
    "for i in range(1, K_max + 1):\n",
    "    errors_pr_mclass[i-1] = parzen_window_err_on_set(i, test_features, test_labels, features, labels, 3)"
   ]
  },
  {
   "cell_type": "code",
   "execution_count": 21,
   "metadata": {},
   "outputs": [
    {
     "data": {
      "image/png": "[encoded data removed]",
      "text/plain": [
       "<Figure size 576x576 with 1 Axes>"
      ]
     },
     "metadata": {},
     "output_type": "display_data"
    }
   ],
   "source": [
    "plt.figure(figsize = (8,8))\n",
    "plt.scatter(np.arange(1, K_max+1), errors_pr_mclass)\n",
    "plt.ylabel(\"error\")\n",
    "plt.xlabel(\"k\")\n",
    "plt.title(\"PR window method error on the training data\")\n",
    "plt.savefig(\"pr_mclass.eps\")"
   ]
  },
  {
   "cell_type": "code",
   "execution_count": 22,
   "metadata": {},
   "outputs": [
    {
     "name": "stdout",
     "output_type": "stream",
     "text": [
      "Optimal k is 20\n",
      "Number of correctly predicted objects is 62 out of 120\n"
     ]
    }
   ],
   "source": [
    "optimal_k_pr_mclass = np.argmin(errors_pr_mclass) + 1\n",
    "print(\"Optimal k is\", optimal_k_pr_mclass)\n",
    "print(\"Number of correctly predicted objects is\", int(test_features.shape[0]-errors_pr_mclass[optimal_k_pr_mclass-1]), \"out of\",\n",
    "      test_features.shape[0] )"
   ]
  }
 ],
 "metadata": {
  "kernelspec": {
   "display_name": "Python 3",
   "language": "python",
   "name": "python3"
  },
  "language_info": {
   "codemirror_mode": {
    "name": "ipython",
    "version": 3
   },
   "file_extension": ".py",
   "mimetype": "text/x-python",
   "name": "python",
   "nbconvert_exporter": "python",
   "pygments_lexer": "ipython3",
   "version": "3.6.5"
  }
 },
 "nbformat": 4,
 "nbformat_minor": 2
}
