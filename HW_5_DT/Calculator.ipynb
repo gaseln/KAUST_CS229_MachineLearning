{
 "cells": [
  {
   "cell_type": "code",
   "execution_count": 2,
   "metadata": {},
   "outputs": [],
   "source": [
    "import numpy as np\n",
    "import pandas as pd\n",
    "import scipy\n",
    "from math import log"
   ]
  },
  {
   "cell_type": "code",
   "execution_count": 3,
   "metadata": {},
   "outputs": [],
   "source": [
    "df = pd.DataFrame(\n",
    "    [[\"sales\", \"senior\", 2, 5, 30],\n",
    "    [\"sales\", \"junior\", 1, 1, 40],\n",
    "    [\"sales\", \"junior\", 2, 2, 40],\n",
    "    [\"systems\", \"junior\", 0, 5, 20],\n",
    "    [\"systems\", \"senior\", 2, 6, 5],\n",
    "    [\"systems\", \"junior\", 1, 5, 3],\n",
    "    [\"systems\", \"senior\", 4, 6, 3],\n",
    "    [\"marketing\", \"senior\", 3, 5, 10],\n",
    "    [\"marketing\", \"junior\", 2, 4, 4],\n",
    "    [\"secretary\", \"senior\", 5, 3, 4],\n",
    "    [\"secretary\", \"junior\", 1, 1, 6]],\n",
    "    columns = [\"department\", \"status\", \"age\", \"salary\", \"count\"])"
   ]
  },
  {
   "cell_type": "code",
   "execution_count": 4,
   "metadata": {},
   "outputs": [
    {
     "data": {
      "text/html": [
       "<div>\n",
       "<style scoped>\n",
       "    .dataframe tbody tr th:only-of-type {\n",
       "        vertical-align: middle;\n",
       "    }\n",
       "\n",
       "    .dataframe tbody tr th {\n",
       "        vertical-align: top;\n",
       "    }\n",
       "\n",
       "    .dataframe thead th {\n",
       "        text-align: right;\n",
       "    }\n",
       "</style>\n",
       "<table border=\"1\" class=\"dataframe\">\n",
       "  <thead>\n",
       "    <tr style=\"text-align: right;\">\n",
       "      <th></th>\n",
       "      <th>department</th>\n",
       "      <th>status</th>\n",
       "      <th>age</th>\n",
       "      <th>salary</th>\n",
       "      <th>count</th>\n",
       "    </tr>\n",
       "  </thead>\n",
       "  <tbody>\n",
       "    <tr>\n",
       "      <th>0</th>\n",
       "      <td>sales</td>\n",
       "      <td>senior</td>\n",
       "      <td>2</td>\n",
       "      <td>5</td>\n",
       "      <td>30</td>\n",
       "    </tr>\n",
       "    <tr>\n",
       "      <th>1</th>\n",
       "      <td>sales</td>\n",
       "      <td>junior</td>\n",
       "      <td>1</td>\n",
       "      <td>1</td>\n",
       "      <td>40</td>\n",
       "    </tr>\n",
       "    <tr>\n",
       "      <th>2</th>\n",
       "      <td>sales</td>\n",
       "      <td>junior</td>\n",
       "      <td>2</td>\n",
       "      <td>2</td>\n",
       "      <td>40</td>\n",
       "    </tr>\n",
       "    <tr>\n",
       "      <th>3</th>\n",
       "      <td>systems</td>\n",
       "      <td>junior</td>\n",
       "      <td>0</td>\n",
       "      <td>5</td>\n",
       "      <td>20</td>\n",
       "    </tr>\n",
       "    <tr>\n",
       "      <th>4</th>\n",
       "      <td>systems</td>\n",
       "      <td>senior</td>\n",
       "      <td>2</td>\n",
       "      <td>6</td>\n",
       "      <td>5</td>\n",
       "    </tr>\n",
       "    <tr>\n",
       "      <th>5</th>\n",
       "      <td>systems</td>\n",
       "      <td>junior</td>\n",
       "      <td>1</td>\n",
       "      <td>5</td>\n",
       "      <td>3</td>\n",
       "    </tr>\n",
       "    <tr>\n",
       "      <th>6</th>\n",
       "      <td>systems</td>\n",
       "      <td>senior</td>\n",
       "      <td>4</td>\n",
       "      <td>6</td>\n",
       "      <td>3</td>\n",
       "    </tr>\n",
       "    <tr>\n",
       "      <th>7</th>\n",
       "      <td>marketing</td>\n",
       "      <td>senior</td>\n",
       "      <td>3</td>\n",
       "      <td>5</td>\n",
       "      <td>10</td>\n",
       "    </tr>\n",
       "    <tr>\n",
       "      <th>8</th>\n",
       "      <td>marketing</td>\n",
       "      <td>junior</td>\n",
       "      <td>2</td>\n",
       "      <td>4</td>\n",
       "      <td>4</td>\n",
       "    </tr>\n",
       "    <tr>\n",
       "      <th>9</th>\n",
       "      <td>secretary</td>\n",
       "      <td>senior</td>\n",
       "      <td>5</td>\n",
       "      <td>3</td>\n",
       "      <td>4</td>\n",
       "    </tr>\n",
       "    <tr>\n",
       "      <th>10</th>\n",
       "      <td>secretary</td>\n",
       "      <td>junior</td>\n",
       "      <td>1</td>\n",
       "      <td>1</td>\n",
       "      <td>6</td>\n",
       "    </tr>\n",
       "  </tbody>\n",
       "</table>\n",
       "</div>"
      ],
      "text/plain": [
       "   department  status  age  salary  count\n",
       "0       sales  senior    2       5     30\n",
       "1       sales  junior    1       1     40\n",
       "2       sales  junior    2       2     40\n",
       "3     systems  junior    0       5     20\n",
       "4     systems  senior    2       6      5\n",
       "5     systems  junior    1       5      3\n",
       "6     systems  senior    4       6      3\n",
       "7   marketing  senior    3       5     10\n",
       "8   marketing  junior    2       4      4\n",
       "9   secretary  senior    5       3      4\n",
       "10  secretary  junior    1       1      6"
      ]
     },
     "execution_count": 4,
     "metadata": {},
     "output_type": "execute_result"
    }
   ],
   "source": [
    "df"
   ]
  },
  {
   "cell_type": "code",
   "execution_count": 4,
   "metadata": {},
   "outputs": [],
   "source": [
    "def gini(df, total):\n",
    "    #print(df)\n",
    "    gini = 1\n",
    "    for row in df.iterrows():\n",
    "        gini -= (row[1][\"count\"]/total)**2\n",
    "    #return 1 - (df[\"count\"][0]/total)**2 - (df[\"count\"][1]/total)**2\n",
    "    return gini"
   ]
  },
  {
   "cell_type": "code",
   "execution_count": 5,
   "metadata": {},
   "outputs": [],
   "source": [
    "def split(df, column_name, split):\n",
    "    df_init = df[[\"status\", \"count\"]].groupby(\"status\").sum()\n",
    "    total = df_init[\"count\"].sum()\n",
    "    # GAIN is calculated by sybsequently calculating each item in sum\n",
    "    gain = gini(df_init, total)\n",
    "    split_info = 0\n",
    "    for group in split:\n",
    "        df_group = df.loc[df[column_name].isin(group), [\"status\", \"count\"]].groupby(\"status\").sum()\n",
    "        total_group = df_group[\"count\"].sum()\n",
    "        freq_group = total_group/total\n",
    "        if freq_group == 0:\n",
    "            split_info -= 0\n",
    "        else:\n",
    "            split_info -= freq_group * log(freq_group)\n",
    "        gain -= freq_group * gini(df_group, total_group)\n",
    "    return gain/split_info"
   ]
  },
  {
   "cell_type": "code",
   "execution_count": 6,
   "metadata": {},
   "outputs": [],
   "source": [
    "def ssq_partition(in_list, k):\n",
    "    assert len(in_list) >= k\n",
    "    if k == 1:\n",
    "        return [[in_list]]\n",
    "    comb = []\n",
    "    length = len(in_list)\n",
    "    for i in range(length - k + 1):\n",
    "        new_list = in_list[i+1 : length]\n",
    "        comp_list = [in_list[:i+1]]\n",
    "        for j in ssq_partition(new_list, k - 1):\n",
    "            comb.append(comp_list + j)\n",
    "    return comb"
   ]
  },
  {
   "cell_type": "code",
   "execution_count": 7,
   "metadata": {},
   "outputs": [],
   "source": [
    "def partition(collection):\n",
    "    if len(collection) == 1:\n",
    "        yield [ collection ]\n",
    "        return\n",
    "\n",
    "    first = collection[0]\n",
    "    for smaller in partition(collection[1:]):\n",
    "        # insert `first` in each of the subpartition's subsets\n",
    "        for n, subset in enumerate(smaller):\n",
    "            yield smaller[:n] + [[ first ] + subset]  + smaller[n+1:]\n",
    "        # put `first` in its own subset \n",
    "        yield [ [ first ] ] + smaller"
   ]
  },
  {
   "cell_type": "code",
   "execution_count": 25,
   "metadata": {},
   "outputs": [],
   "source": [
    "age_range = [0, 1, 2, 3, 4, 5]\n",
    "salary_range = [1, 2, 3, 4, 5, 6]\n",
    "department_range = [\"sales\", \"systems\", \"marketing\", \"secretary\"]\n",
    "splits = {}\n",
    "splits[\"department\"] = partition(department_range)\n",
    "splits[\"age\"] = ssq_partition(age_range, 3) + ssq_partition(age_range, 4)\n",
    "splits[\"salary\"] = ssq_partition(salary_range, 3) + ssq_partition(salary_range, 4)"
   ]
  },
  {
   "cell_type": "code",
   "execution_count": 9,
   "metadata": {},
   "outputs": [
    {
     "name": "stderr",
     "output_type": "stream",
     "text": [
      "/Users/gasanoe/anaconda3/envs/py3/lib/python3.7/site-packages/ipykernel_launcher.py:16: RuntimeWarning: invalid value encountered in double_scalars\n",
      "  app.launch_new_instance()\n"
     ]
    }
   ],
   "source": [
    "df_root = pd.DataFrame(columns = [\"split\", \"gainratio\"])\n",
    "gainRatio = 0\n",
    "index = 0\n",
    "for column_name, all_col_splits in splits.items():\n",
    "    for curr_split in all_col_splits:\n",
    "        #print(curr_split)\n",
    "        gainRatio = split(df, column_name, curr_split)\n",
    "        #print(gainRatio)\n",
    "        df_root.loc[index] = [curr_split, gainRatio]\n",
    "        index += 1"
   ]
  },
  {
   "cell_type": "code",
   "execution_count": 10,
   "metadata": {},
   "outputs": [
    {
     "name": "stdout",
     "output_type": "stream",
     "text": [
      "                                             split  gainratio\n",
      "0         [[sales, systems, marketing, secretary]]   0.000000\n",
      "1       [[sales], [systems, marketing, secretary]]   0.011310\n",
      "2       [[sales, systems], [marketing, secretary]]   0.059034\n",
      "3       [[systems], [sales, marketing, secretary]]   0.003121\n",
      "4     [[sales], [systems], [marketing, secretary]]   0.028383\n",
      "5       [[sales, systems, marketing], [secretary]]   0.004063\n",
      "6       [[systems, marketing], [sales, secretary]]   0.009215\n",
      "7     [[sales], [systems, marketing], [secretary]]   0.009061\n",
      "8       [[sales, marketing], [systems, secretary]]   0.000595\n",
      "9       [[marketing], [sales, systems, secretary]]   0.101705\n",
      "10    [[sales], [marketing], [systems, secretary]]   0.035955\n",
      "11    [[sales, systems], [marketing], [secretary]]   0.061277\n",
      "12    [[systems], [sales, marketing], [secretary]]   0.003120\n",
      "13    [[systems], [marketing], [sales, secretary]]   0.039377\n",
      "14  [[sales], [systems], [marketing], [secretary]]   0.032721\n",
      "15                        [[0], [1], [2, 3, 4, 5]]   0.153280\n",
      "16                        [[0], [1, 2], [3, 4, 5]]   0.179676\n",
      "17                        [[0], [1, 2, 3], [4, 5]]   0.118809\n",
      "18                        [[0], [1, 2, 3, 4], [5]]   0.099754\n",
      "19                        [[0, 1], [2], [3, 4, 5]]   0.205361\n",
      "20                        [[0, 1], [2, 3], [4, 5]]   0.194799\n",
      "21                        [[0, 1], [2, 3, 4], [5]]   0.196549\n",
      "22                        [[0, 1, 2], [3], [4, 5]]   0.268366\n",
      "23                        [[0, 1, 2], [3, 4], [5]]   0.277768\n",
      "24                        [[0, 1, 2, 3], [4], [5]]   0.203175\n",
      "25                      [[0], [1], [2], [3, 4, 5]]   0.162389\n",
      "26                      [[0], [1], [2, 3], [4, 5]]   0.149532\n",
      "27                      [[0], [1], [2, 3, 4], [5]]   0.148612\n",
      "28                      [[0], [1, 2], [3], [4, 5]]   0.163103\n",
      "29                      [[0], [1, 2], [3, 4], [5]]   0.166085\n",
      "30                      [[0], [1, 2, 3], [4], [5]]   0.112751\n",
      "31                      [[0, 1], [2], [3], [4, 5]]   0.191324\n",
      "32                      [[0, 1], [2], [3, 4], [5]]   0.193904\n",
      "33                      [[0, 1], [2, 3], [4], [5]]   0.188241\n",
      "34                      [[0, 1, 2], [3], [4], [5]]   0.250304\n",
      "35                        [[1], [2], [3, 4, 5, 6]]   0.205504\n",
      "36                        [[1], [2, 3], [4, 5, 6]]   0.166952\n",
      "37                        [[1], [2, 3, 4], [5, 6]]   0.184335\n",
      "38                        [[1], [2, 3, 4, 5], [6]]   0.142609\n",
      "39                        [[1, 2], [3], [4, 5, 6]]   0.281923\n",
      "40                        [[1, 2], [3, 4], [5, 6]]   0.257817\n",
      "41                        [[1, 2], [3, 4, 5], [6]]   0.269477\n",
      "42                        [[1, 2, 3], [4], [5, 6]]   0.251203\n",
      "43                        [[1, 2, 3], [4, 5], [6]]   0.225235\n",
      "44                        [[1, 2, 3, 4], [5], [6]]   0.249410\n",
      "45                      [[1], [2], [3], [4, 5, 6]]   0.193528\n",
      "46                      [[1], [2], [3, 4], [5, 6]]   0.181061\n",
      "47                      [[1], [2], [3, 4, 5], [6]]   0.189249\n",
      "48                      [[1], [2, 3], [4], [5, 6]]   0.171409\n",
      "49                      [[1], [2, 3], [4, 5], [6]]   0.157376\n",
      "50                      [[1], [2, 3, 4], [5], [6]]   0.170950\n",
      "51                      [[1, 2], [3], [4], [5, 6]]   0.275462\n",
      "52                      [[1, 2], [3], [4, 5], [6]]   0.250691\n",
      "53                      [[1, 2], [3, 4], [5], [6]]   0.230246\n",
      "54                      [[1, 2, 3], [4], [5], [6]]   0.222770\n"
     ]
    }
   ],
   "source": [
    "df_root.fillna(0, inplace=True)\n",
    "with pd.option_context('display.max_rows', None, 'display.max_columns', None):\n",
    "    print(df_root)"
   ]
  },
  {
   "cell_type": "code",
   "execution_count": 11,
   "metadata": {},
   "outputs": [
    {
     "data": {
      "text/plain": [
       "0.2819234434432972"
      ]
     },
     "execution_count": 11,
     "metadata": {},
     "output_type": "execute_result"
    }
   ],
   "source": [
    "max(df_root[\"gainratio\"])"
   ]
  },
  {
   "cell_type": "code",
   "execution_count": 12,
   "metadata": {},
   "outputs": [
    {
     "data": {
      "text/html": [
       "<div>\n",
       "<style scoped>\n",
       "    .dataframe tbody tr th:only-of-type {\n",
       "        vertical-align: middle;\n",
       "    }\n",
       "\n",
       "    .dataframe tbody tr th {\n",
       "        vertical-align: top;\n",
       "    }\n",
       "\n",
       "    .dataframe thead th {\n",
       "        text-align: right;\n",
       "    }\n",
       "</style>\n",
       "<table border=\"1\" class=\"dataframe\">\n",
       "  <thead>\n",
       "    <tr style=\"text-align: right;\">\n",
       "      <th></th>\n",
       "      <th>department</th>\n",
       "      <th>status</th>\n",
       "      <th>age</th>\n",
       "      <th>salary</th>\n",
       "      <th>count</th>\n",
       "    </tr>\n",
       "  </thead>\n",
       "  <tbody>\n",
       "    <tr>\n",
       "      <th>1</th>\n",
       "      <td>sales</td>\n",
       "      <td>junior</td>\n",
       "      <td>1</td>\n",
       "      <td>1</td>\n",
       "      <td>40</td>\n",
       "    </tr>\n",
       "    <tr>\n",
       "      <th>2</th>\n",
       "      <td>sales</td>\n",
       "      <td>junior</td>\n",
       "      <td>2</td>\n",
       "      <td>2</td>\n",
       "      <td>40</td>\n",
       "    </tr>\n",
       "    <tr>\n",
       "      <th>10</th>\n",
       "      <td>secretary</td>\n",
       "      <td>junior</td>\n",
       "      <td>1</td>\n",
       "      <td>1</td>\n",
       "      <td>6</td>\n",
       "    </tr>\n",
       "  </tbody>\n",
       "</table>\n",
       "</div>"
      ],
      "text/plain": [
       "   department  status  age  salary  count\n",
       "1       sales  junior    1       1     40\n",
       "2       sales  junior    2       2     40\n",
       "10  secretary  junior    1       1      6"
      ]
     },
     "execution_count": 12,
     "metadata": {},
     "output_type": "execute_result"
    }
   ],
   "source": [
    "df[df[\"salary\"].isin([1, 2])]"
   ]
  },
  {
   "cell_type": "code",
   "execution_count": 13,
   "metadata": {},
   "outputs": [
    {
     "data": {
      "text/html": [
       "<div>\n",
       "<style scoped>\n",
       "    .dataframe tbody tr th:only-of-type {\n",
       "        vertical-align: middle;\n",
       "    }\n",
       "\n",
       "    .dataframe tbody tr th {\n",
       "        vertical-align: top;\n",
       "    }\n",
       "\n",
       "    .dataframe thead th {\n",
       "        text-align: right;\n",
       "    }\n",
       "</style>\n",
       "<table border=\"1\" class=\"dataframe\">\n",
       "  <thead>\n",
       "    <tr style=\"text-align: right;\">\n",
       "      <th></th>\n",
       "      <th>department</th>\n",
       "      <th>status</th>\n",
       "      <th>age</th>\n",
       "      <th>salary</th>\n",
       "      <th>count</th>\n",
       "    </tr>\n",
       "  </thead>\n",
       "  <tbody>\n",
       "    <tr>\n",
       "      <th>9</th>\n",
       "      <td>secretary</td>\n",
       "      <td>senior</td>\n",
       "      <td>5</td>\n",
       "      <td>3</td>\n",
       "      <td>4</td>\n",
       "    </tr>\n",
       "  </tbody>\n",
       "</table>\n",
       "</div>"
      ],
      "text/plain": [
       "  department  status  age  salary  count\n",
       "9  secretary  senior    5       3      4"
      ]
     },
     "execution_count": 13,
     "metadata": {},
     "output_type": "execute_result"
    }
   ],
   "source": [
    "df[df[\"salary\"].isin([3])]"
   ]
  },
  {
   "cell_type": "code",
   "execution_count": 15,
   "metadata": {},
   "outputs": [],
   "source": [
    "df1 = df[df[\"salary\"].isin([4, 5, 6])]"
   ]
  },
  {
   "cell_type": "code",
   "execution_count": 16,
   "metadata": {},
   "outputs": [
    {
     "data": {
      "text/html": [
       "<div>\n",
       "<style scoped>\n",
       "    .dataframe tbody tr th:only-of-type {\n",
       "        vertical-align: middle;\n",
       "    }\n",
       "\n",
       "    .dataframe tbody tr th {\n",
       "        vertical-align: top;\n",
       "    }\n",
       "\n",
       "    .dataframe thead th {\n",
       "        text-align: right;\n",
       "    }\n",
       "</style>\n",
       "<table border=\"1\" class=\"dataframe\">\n",
       "  <thead>\n",
       "    <tr style=\"text-align: right;\">\n",
       "      <th></th>\n",
       "      <th>department</th>\n",
       "      <th>status</th>\n",
       "      <th>age</th>\n",
       "      <th>salary</th>\n",
       "      <th>count</th>\n",
       "    </tr>\n",
       "  </thead>\n",
       "  <tbody>\n",
       "    <tr>\n",
       "      <th>0</th>\n",
       "      <td>sales</td>\n",
       "      <td>senior</td>\n",
       "      <td>2</td>\n",
       "      <td>5</td>\n",
       "      <td>30</td>\n",
       "    </tr>\n",
       "    <tr>\n",
       "      <th>3</th>\n",
       "      <td>systems</td>\n",
       "      <td>junior</td>\n",
       "      <td>0</td>\n",
       "      <td>5</td>\n",
       "      <td>20</td>\n",
       "    </tr>\n",
       "    <tr>\n",
       "      <th>4</th>\n",
       "      <td>systems</td>\n",
       "      <td>senior</td>\n",
       "      <td>2</td>\n",
       "      <td>6</td>\n",
       "      <td>5</td>\n",
       "    </tr>\n",
       "    <tr>\n",
       "      <th>5</th>\n",
       "      <td>systems</td>\n",
       "      <td>junior</td>\n",
       "      <td>1</td>\n",
       "      <td>5</td>\n",
       "      <td>3</td>\n",
       "    </tr>\n",
       "    <tr>\n",
       "      <th>6</th>\n",
       "      <td>systems</td>\n",
       "      <td>senior</td>\n",
       "      <td>4</td>\n",
       "      <td>6</td>\n",
       "      <td>3</td>\n",
       "    </tr>\n",
       "    <tr>\n",
       "      <th>7</th>\n",
       "      <td>marketing</td>\n",
       "      <td>senior</td>\n",
       "      <td>3</td>\n",
       "      <td>5</td>\n",
       "      <td>10</td>\n",
       "    </tr>\n",
       "    <tr>\n",
       "      <th>8</th>\n",
       "      <td>marketing</td>\n",
       "      <td>junior</td>\n",
       "      <td>2</td>\n",
       "      <td>4</td>\n",
       "      <td>4</td>\n",
       "    </tr>\n",
       "  </tbody>\n",
       "</table>\n",
       "</div>"
      ],
      "text/plain": [
       "  department  status  age  salary  count\n",
       "0      sales  senior    2       5     30\n",
       "3    systems  junior    0       5     20\n",
       "4    systems  senior    2       6      5\n",
       "5    systems  junior    1       5      3\n",
       "6    systems  senior    4       6      3\n",
       "7  marketing  senior    3       5     10\n",
       "8  marketing  junior    2       4      4"
      ]
     },
     "execution_count": 16,
     "metadata": {},
     "output_type": "execute_result"
    }
   ],
   "source": [
    "df1"
   ]
  },
  {
   "cell_type": "code",
   "execution_count": 18,
   "metadata": {},
   "outputs": [
    {
     "name": "stderr",
     "output_type": "stream",
     "text": [
      "/Users/gasanoe/anaconda3/envs/py3/lib/python3.7/site-packages/ipykernel_launcher.py:16: RuntimeWarning: invalid value encountered in double_scalars\n",
      "  app.launch_new_instance()\n"
     ]
    }
   ],
   "source": [
    "df1_root = pd.DataFrame(columns = [\"split\", \"gainratio\"])\n",
    "gainRatio = 0\n",
    "index = 0\n",
    "for column_name, all_col_splits in splits.items():\n",
    "    for curr_split in all_col_splits:\n",
    "        #print(curr_split)\n",
    "        gainRatio = split(df1, column_name, curr_split)\n",
    "        #print(gainRatio)\n",
    "        df1_root.loc[index] = [curr_split, gainRatio]\n",
    "        index += 1"
   ]
  },
  {
   "cell_type": "code",
   "execution_count": 19,
   "metadata": {},
   "outputs": [
    {
     "name": "stdout",
     "output_type": "stream",
     "text": [
      "                                             split  gainratio\n",
      "0         [[sales, systems, marketing, secretary]]   0.000000\n",
      "1       [[sales], [systems, marketing, secretary]]   0.256756\n",
      "2       [[sales, systems], [marketing, secretary]]   0.005262\n",
      "3       [[systems], [sales, marketing, secretary]]   0.303150\n",
      "4     [[sales], [systems], [marketing, secretary]]   0.216583\n",
      "5       [[sales, systems, marketing], [secretary]]   0.000000\n",
      "6       [[systems, marketing], [sales, secretary]]   0.256756\n",
      "7     [[sales], [systems, marketing], [secretary]]   0.256756\n",
      "8       [[sales, marketing], [systems, secretary]]   0.303150\n",
      "9       [[marketing], [sales, systems, secretary]]   0.005262\n",
      "10    [[sales], [marketing], [systems, secretary]]   0.216583\n",
      "11    [[sales, systems], [marketing], [secretary]]   0.005262\n",
      "12    [[systems], [sales, marketing], [secretary]]   0.303150\n",
      "13    [[systems], [marketing], [sales, secretary]]   0.216583\n",
      "14  [[sales], [systems], [marketing], [secretary]]   0.216583\n",
      "15                        [[0], [1], [2, 3, 4, 5]]   0.492875\n",
      "16                        [[0], [1, 2], [3, 4, 5]]   0.311175\n",
      "17                        [[0], [1, 2, 3], [4, 5]]   0.407074\n",
      "18                        [[0], [1, 2, 3, 4], [5]]   0.513680\n",
      "19                        [[0, 1], [2], [3, 4, 5]]   0.362790\n",
      "20                        [[0, 1], [2, 3], [4, 5]]   0.471628\n",
      "21                        [[0, 1], [2, 3, 4], [5]]   0.587823\n",
      "22                        [[0, 1, 2], [3], [4, 5]]   0.097966\n",
      "23                        [[0, 1, 2], [3, 4], [5]]   0.117859\n",
      "24                        [[0, 1, 2, 3], [4], [5]]   0.064307\n",
      "25                      [[0], [1], [2], [3, 4, 5]]   0.324499\n",
      "26                      [[0], [1], [2, 3], [4, 5]]   0.408567\n",
      "27                      [[0], [1], [2, 3, 4], [5]]   0.492875\n",
      "28                      [[0], [1, 2], [3], [4, 5]]   0.284061\n",
      "29                      [[0], [1, 2], [3, 4], [5]]   0.311175\n",
      "30                      [[0], [1, 2, 3], [4], [5]]   0.407074\n",
      "31                      [[0, 1], [2], [3], [4, 5]]   0.331907\n",
      "32                      [[0, 1], [2], [3, 4], [5]]   0.362790\n",
      "33                      [[0, 1], [2, 3], [4], [5]]   0.471628\n",
      "34                      [[0, 1, 2], [3], [4], [5]]   0.097966\n",
      "35                        [[1], [2], [3, 4, 5, 6]]   0.000000\n",
      "36                        [[1], [2, 3], [4, 5, 6]]   0.000000\n",
      "37                        [[1], [2, 3, 4], [5, 6]]   0.221656\n",
      "38                        [[1], [2, 3, 4, 5], [6]]   0.091164\n",
      "39                        [[1, 2], [3], [4, 5, 6]]   0.000000\n",
      "40                        [[1, 2], [3, 4], [5, 6]]   0.221656\n",
      "41                        [[1, 2], [3, 4, 5], [6]]   0.091164\n",
      "42                        [[1, 2, 3], [4], [5, 6]]   0.221656\n",
      "43                        [[1, 2, 3], [4, 5], [6]]   0.091164\n",
      "44                        [[1, 2, 3, 4], [5], [6]]   0.131820\n",
      "45                      [[1], [2], [3], [4, 5, 6]]   0.000000\n",
      "46                      [[1], [2], [3, 4], [5, 6]]   0.221656\n",
      "47                      [[1], [2], [3, 4, 5], [6]]   0.091164\n",
      "48                      [[1], [2, 3], [4], [5, 6]]   0.221656\n",
      "49                      [[1], [2, 3], [4, 5], [6]]   0.091164\n",
      "50                      [[1], [2, 3, 4], [5], [6]]   0.131820\n",
      "51                      [[1, 2], [3], [4], [5, 6]]   0.221656\n",
      "52                      [[1, 2], [3], [4, 5], [6]]   0.091164\n",
      "53                      [[1, 2], [3, 4], [5], [6]]   0.131820\n",
      "54                      [[1, 2, 3], [4], [5], [6]]   0.131820\n"
     ]
    }
   ],
   "source": [
    "df1_root.fillna(0, inplace=True)\n",
    "with pd.option_context('display.max_rows', None, 'display.max_columns', None):\n",
    "    print(df1_root)"
   ]
  },
  {
   "cell_type": "code",
   "execution_count": 20,
   "metadata": {},
   "outputs": [
    {
     "data": {
      "text/plain": [
       "0.5878228558220879"
      ]
     },
     "execution_count": 20,
     "metadata": {},
     "output_type": "execute_result"
    }
   ],
   "source": [
    "max(df1_root[\"gainratio\"])"
   ]
  },
  {
   "cell_type": "code",
   "execution_count": 21,
   "metadata": {},
   "outputs": [
    {
     "data": {
      "text/html": [
       "<div>\n",
       "<style scoped>\n",
       "    .dataframe tbody tr th:only-of-type {\n",
       "        vertical-align: middle;\n",
       "    }\n",
       "\n",
       "    .dataframe tbody tr th {\n",
       "        vertical-align: top;\n",
       "    }\n",
       "\n",
       "    .dataframe thead th {\n",
       "        text-align: right;\n",
       "    }\n",
       "</style>\n",
       "<table border=\"1\" class=\"dataframe\">\n",
       "  <thead>\n",
       "    <tr style=\"text-align: right;\">\n",
       "      <th></th>\n",
       "      <th>department</th>\n",
       "      <th>status</th>\n",
       "      <th>age</th>\n",
       "      <th>salary</th>\n",
       "      <th>count</th>\n",
       "    </tr>\n",
       "  </thead>\n",
       "  <tbody>\n",
       "    <tr>\n",
       "      <th>3</th>\n",
       "      <td>systems</td>\n",
       "      <td>junior</td>\n",
       "      <td>0</td>\n",
       "      <td>5</td>\n",
       "      <td>20</td>\n",
       "    </tr>\n",
       "    <tr>\n",
       "      <th>5</th>\n",
       "      <td>systems</td>\n",
       "      <td>junior</td>\n",
       "      <td>1</td>\n",
       "      <td>5</td>\n",
       "      <td>3</td>\n",
       "    </tr>\n",
       "  </tbody>\n",
       "</table>\n",
       "</div>"
      ],
      "text/plain": [
       "  department  status  age  salary  count\n",
       "3    systems  junior    0       5     20\n",
       "5    systems  junior    1       5      3"
      ]
     },
     "execution_count": 21,
     "metadata": {},
     "output_type": "execute_result"
    }
   ],
   "source": [
    "df1[df1[\"age\"].isin([0, 1])]"
   ]
  },
  {
   "cell_type": "code",
   "execution_count": 24,
   "metadata": {},
   "outputs": [],
   "source": [
    "df2 = df1[df1[\"age\"].isin([2, 3, 4])]"
   ]
  },
  {
   "cell_type": "code",
   "execution_count": 23,
   "metadata": {},
   "outputs": [
    {
     "data": {
      "text/html": [
       "<div>\n",
       "<style scoped>\n",
       "    .dataframe tbody tr th:only-of-type {\n",
       "        vertical-align: middle;\n",
       "    }\n",
       "\n",
       "    .dataframe tbody tr th {\n",
       "        vertical-align: top;\n",
       "    }\n",
       "\n",
       "    .dataframe thead th {\n",
       "        text-align: right;\n",
       "    }\n",
       "</style>\n",
       "<table border=\"1\" class=\"dataframe\">\n",
       "  <thead>\n",
       "    <tr style=\"text-align: right;\">\n",
       "      <th></th>\n",
       "      <th>department</th>\n",
       "      <th>status</th>\n",
       "      <th>age</th>\n",
       "      <th>salary</th>\n",
       "      <th>count</th>\n",
       "    </tr>\n",
       "  </thead>\n",
       "  <tbody>\n",
       "  </tbody>\n",
       "</table>\n",
       "</div>"
      ],
      "text/plain": [
       "Empty DataFrame\n",
       "Columns: [department, status, age, salary, count]\n",
       "Index: []"
      ]
     },
     "execution_count": 23,
     "metadata": {},
     "output_type": "execute_result"
    }
   ],
   "source": [
    "df1[df1[\"age\"].isin([5])]"
   ]
  },
  {
   "cell_type": "code",
   "execution_count": 26,
   "metadata": {},
   "outputs": [
    {
     "name": "stderr",
     "output_type": "stream",
     "text": [
      "/Users/gasanoe/anaconda3/envs/py3/lib/python3.7/site-packages/ipykernel_launcher.py:16: RuntimeWarning: invalid value encountered in double_scalars\n",
      "  app.launch_new_instance()\n"
     ]
    }
   ],
   "source": [
    "df2_root = pd.DataFrame(columns = [\"split\", \"gainratio\"])\n",
    "gainRatio = 0\n",
    "index = 0\n",
    "for column_name, all_col_splits in splits.items():\n",
    "    for curr_split in all_col_splits:\n",
    "        #print(curr_split)\n",
    "        gainRatio = split(df2, column_name, curr_split)\n",
    "        #print(gainRatio)\n",
    "        df2_root.loc[index] = [curr_split, gainRatio]\n",
    "        index += 1"
   ]
  },
  {
   "cell_type": "code",
   "execution_count": 27,
   "metadata": {},
   "outputs": [
    {
     "name": "stdout",
     "output_type": "stream",
     "text": [
      "                                             split  gainratio\n",
      "0         [[sales, systems, marketing, secretary]]   0.000000\n",
      "1       [[sales], [systems, marketing, secretary]]   0.023688\n",
      "2       [[sales, systems], [marketing, secretary]]   0.055145\n",
      "3       [[systems], [sales, marketing, secretary]]   0.005012\n",
      "4     [[sales], [systems], [marketing, secretary]]   0.033510\n",
      "5       [[sales, systems, marketing], [secretary]]   0.000000\n",
      "6       [[systems, marketing], [sales, secretary]]   0.023688\n",
      "7     [[sales], [systems, marketing], [secretary]]   0.023688\n",
      "8       [[sales, marketing], [systems, secretary]]   0.005012\n",
      "9       [[marketing], [sales, systems, secretary]]   0.055145\n",
      "10    [[sales], [marketing], [systems, secretary]]   0.033510\n",
      "11    [[sales, systems], [marketing], [secretary]]   0.055145\n",
      "12    [[systems], [sales, marketing], [secretary]]   0.005012\n",
      "13    [[systems], [marketing], [sales, secretary]]   0.033510\n",
      "14  [[sales], [systems], [marketing], [secretary]]   0.033510\n",
      "15                        [[0], [1], [2, 3, 4, 5]]   0.000000\n",
      "16                        [[0], [1, 2], [3, 4, 5]]   0.007015\n",
      "17                        [[0], [1, 2, 3], [4, 5]]   0.003285\n",
      "18                        [[0], [1, 2, 3, 4], [5]]   0.000000\n",
      "19                        [[0, 1], [2], [3, 4, 5]]   0.007015\n",
      "20                        [[0, 1], [2, 3], [4, 5]]   0.003285\n",
      "21                        [[0, 1], [2, 3, 4], [5]]   0.000000\n",
      "22                        [[0, 1, 2], [3], [4, 5]]   0.005657\n",
      "23                        [[0, 1, 2], [3, 4], [5]]   0.007015\n",
      "24                        [[0, 1, 2, 3], [4], [5]]   0.003285\n",
      "25                      [[0], [1], [2], [3, 4, 5]]   0.007015\n",
      "26                      [[0], [1], [2, 3], [4, 5]]   0.003285\n",
      "27                      [[0], [1], [2, 3, 4], [5]]   0.000000\n",
      "28                      [[0], [1, 2], [3], [4, 5]]   0.005657\n",
      "29                      [[0], [1, 2], [3, 4], [5]]   0.007015\n",
      "30                      [[0], [1, 2, 3], [4], [5]]   0.003285\n",
      "31                      [[0, 1], [2], [3], [4, 5]]   0.005657\n",
      "32                      [[0, 1], [2], [3, 4], [5]]   0.007015\n",
      "33                      [[0, 1], [2, 3], [4], [5]]   0.003285\n",
      "34                      [[0, 1, 2], [3], [4], [5]]   0.005657\n",
      "35                        [[1], [2], [3, 4, 5, 6]]   0.000000\n",
      "36                        [[1], [2, 3], [4, 5, 6]]   0.000000\n",
      "37                        [[1], [2, 3, 4], [5, 6]]   0.523663\n",
      "38                        [[1], [2, 3, 4, 5], [6]]   0.005012\n",
      "39                        [[1, 2], [3], [4, 5, 6]]   0.000000\n",
      "40                        [[1, 2], [3, 4], [5, 6]]   0.523663\n",
      "41                        [[1, 2], [3, 4, 5], [6]]   0.005012\n",
      "42                        [[1, 2, 3], [4], [5, 6]]   0.523663\n",
      "43                        [[1, 2, 3], [4, 5], [6]]   0.005012\n",
      "44                        [[1, 2, 3, 4], [5], [6]]   0.206685\n",
      "45                      [[1], [2], [3], [4, 5, 6]]   0.000000\n",
      "46                      [[1], [2], [3, 4], [5, 6]]   0.523663\n",
      "47                      [[1], [2], [3, 4, 5], [6]]   0.005012\n",
      "48                      [[1], [2, 3], [4], [5, 6]]   0.523663\n",
      "49                      [[1], [2, 3], [4, 5], [6]]   0.005012\n",
      "50                      [[1], [2, 3, 4], [5], [6]]   0.206685\n",
      "51                      [[1, 2], [3], [4], [5, 6]]   0.523663\n",
      "52                      [[1, 2], [3], [4, 5], [6]]   0.005012\n",
      "53                      [[1, 2], [3, 4], [5], [6]]   0.206685\n",
      "54                      [[1, 2, 3], [4], [5], [6]]   0.206685\n"
     ]
    }
   ],
   "source": [
    "df2_root.fillna(0, inplace=True)\n",
    "with pd.option_context('display.max_rows', None, 'display.max_columns', None):\n",
    "    print(df2_root)"
   ]
  },
  {
   "cell_type": "code",
   "execution_count": 30,
   "metadata": {},
   "outputs": [
    {
     "data": {
      "text/plain": [
       "[0.0,\n",
       " 0.0,\n",
       " 0.0,\n",
       " 0.0,\n",
       " 0.0,\n",
       " 0.0,\n",
       " 0.0,\n",
       " 0.0,\n",
       " 0.0,\n",
       " 0.0,\n",
       " 0.003284898470003282,\n",
       " 0.003284898470003282,\n",
       " 0.003284898470003282,\n",
       " 0.003284898470003282,\n",
       " 0.003284898470003282,\n",
       " 0.003284898470003282,\n",
       " 0.005011831067690217,\n",
       " 0.005011831067690217,\n",
       " 0.005011831067690217,\n",
       " 0.005011831067690217,\n",
       " 0.005011831067690217,\n",
       " 0.005011831067690217,\n",
       " 0.005011831067690217,\n",
       " 0.005011831067690217,\n",
       " 0.005011831067690217,\n",
       " 0.005656511825801194,\n",
       " 0.005656511825801194,\n",
       " 0.005656511825801194,\n",
       " 0.005656511825801194,\n",
       " 0.007014986015530497,\n",
       " 0.007014986015530497,\n",
       " 0.007014986015530497,\n",
       " 0.007014986015530497,\n",
       " 0.007014986015530497,\n",
       " 0.007014986015530497,\n",
       " 0.02368783243122856,\n",
       " 0.02368783243122856,\n",
       " 0.02368783243122856,\n",
       " 0.033509523290136095,\n",
       " 0.033509523290136095,\n",
       " 0.033509523290136095,\n",
       " 0.033509523290136095,\n",
       " 0.055145325567219856,\n",
       " 0.055145325567219856,\n",
       " 0.055145325567219856,\n",
       " 0.20668531821137248,\n",
       " 0.20668531821137248,\n",
       " 0.20668531821137248,\n",
       " 0.20668531821137248,\n",
       " 0.5236629766374151,\n",
       " 0.5236629766374151,\n",
       " 0.5236629766374151,\n",
       " 0.5236629766374151,\n",
       " 0.5236629766374151,\n",
       " 0.5236629766374151]"
      ]
     },
     "execution_count": 30,
     "metadata": {},
     "output_type": "execute_result"
    }
   ],
   "source": [
    "gr_values = sorted(df2_root[\"gainratio\"])\n",
    "gr_values"
   ]
  },
  {
   "cell_type": "code",
   "execution_count": 12,
   "metadata": {},
   "outputs": [
    {
     "data": {
      "text/html": [
       "<div>\n",
       "<style scoped>\n",
       "    .dataframe tbody tr th:only-of-type {\n",
       "        vertical-align: middle;\n",
       "    }\n",
       "\n",
       "    .dataframe tbody tr th {\n",
       "        vertical-align: top;\n",
       "    }\n",
       "\n",
       "    .dataframe thead th {\n",
       "        text-align: right;\n",
       "    }\n",
       "</style>\n",
       "<table border=\"1\" class=\"dataframe\">\n",
       "  <thead>\n",
       "    <tr style=\"text-align: right;\">\n",
       "      <th></th>\n",
       "      <th>department</th>\n",
       "      <th>status</th>\n",
       "      <th>age</th>\n",
       "      <th>salary</th>\n",
       "      <th>count</th>\n",
       "    </tr>\n",
       "  </thead>\n",
       "  <tbody>\n",
       "    <tr>\n",
       "      <th>1</th>\n",
       "      <td>sales</td>\n",
       "      <td>junior</td>\n",
       "      <td>1</td>\n",
       "      <td>1</td>\n",
       "      <td>40</td>\n",
       "    </tr>\n",
       "    <tr>\n",
       "      <th>2</th>\n",
       "      <td>sales</td>\n",
       "      <td>junior</td>\n",
       "      <td>2</td>\n",
       "      <td>2</td>\n",
       "      <td>40</td>\n",
       "    </tr>\n",
       "    <tr>\n",
       "      <th>3</th>\n",
       "      <td>systems</td>\n",
       "      <td>junior</td>\n",
       "      <td>0</td>\n",
       "      <td>5</td>\n",
       "      <td>20</td>\n",
       "    </tr>\n",
       "    <tr>\n",
       "      <th>5</th>\n",
       "      <td>systems</td>\n",
       "      <td>junior</td>\n",
       "      <td>1</td>\n",
       "      <td>5</td>\n",
       "      <td>3</td>\n",
       "    </tr>\n",
       "    <tr>\n",
       "      <th>8</th>\n",
       "      <td>marketing</td>\n",
       "      <td>junior</td>\n",
       "      <td>2</td>\n",
       "      <td>4</td>\n",
       "      <td>4</td>\n",
       "    </tr>\n",
       "    <tr>\n",
       "      <th>10</th>\n",
       "      <td>secretary</td>\n",
       "      <td>junior</td>\n",
       "      <td>1</td>\n",
       "      <td>1</td>\n",
       "      <td>6</td>\n",
       "    </tr>\n",
       "  </tbody>\n",
       "</table>\n",
       "</div>"
      ],
      "text/plain": [
       "   department  status  age  salary  count\n",
       "1       sales  junior    1       1     40\n",
       "2       sales  junior    2       2     40\n",
       "3     systems  junior    0       5     20\n",
       "5     systems  junior    1       5      3\n",
       "8   marketing  junior    2       4      4\n",
       "10  secretary  junior    1       1      6"
      ]
     },
     "execution_count": 12,
     "metadata": {},
     "output_type": "execute_result"
    }
   ],
   "source": [
    "df[df[\"status\"]==\"junior\"]"
   ]
  },
  {
   "cell_type": "code",
   "execution_count": 7,
   "metadata": {},
   "outputs": [
    {
     "data": {
      "text/plain": [
       "department    salessalessystemssystemsmarketingsecretary\n",
       "status              juniorjuniorjuniorjuniorjuniorjunior\n",
       "age                                                    7\n",
       "salary                                                18\n",
       "count                                                113\n",
       "dtype: object"
      ]
     },
     "execution_count": 7,
     "metadata": {},
     "output_type": "execute_result"
    }
   ],
   "source": [
    "df[df[\"status\"]==\"junior\"].sum()"
   ]
  },
  {
   "cell_type": "code",
   "execution_count": 13,
   "metadata": {},
   "outputs": [
    {
     "data": {
      "text/html": [
       "<div>\n",
       "<style scoped>\n",
       "    .dataframe tbody tr th:only-of-type {\n",
       "        vertical-align: middle;\n",
       "    }\n",
       "\n",
       "    .dataframe tbody tr th {\n",
       "        vertical-align: top;\n",
       "    }\n",
       "\n",
       "    .dataframe thead th {\n",
       "        text-align: right;\n",
       "    }\n",
       "</style>\n",
       "<table border=\"1\" class=\"dataframe\">\n",
       "  <thead>\n",
       "    <tr style=\"text-align: right;\">\n",
       "      <th></th>\n",
       "      <th>department</th>\n",
       "      <th>status</th>\n",
       "      <th>age</th>\n",
       "      <th>salary</th>\n",
       "      <th>count</th>\n",
       "    </tr>\n",
       "  </thead>\n",
       "  <tbody>\n",
       "    <tr>\n",
       "      <th>0</th>\n",
       "      <td>sales</td>\n",
       "      <td>senior</td>\n",
       "      <td>2</td>\n",
       "      <td>5</td>\n",
       "      <td>30</td>\n",
       "    </tr>\n",
       "    <tr>\n",
       "      <th>4</th>\n",
       "      <td>systems</td>\n",
       "      <td>senior</td>\n",
       "      <td>2</td>\n",
       "      <td>6</td>\n",
       "      <td>5</td>\n",
       "    </tr>\n",
       "    <tr>\n",
       "      <th>6</th>\n",
       "      <td>systems</td>\n",
       "      <td>senior</td>\n",
       "      <td>4</td>\n",
       "      <td>6</td>\n",
       "      <td>3</td>\n",
       "    </tr>\n",
       "    <tr>\n",
       "      <th>7</th>\n",
       "      <td>marketing</td>\n",
       "      <td>senior</td>\n",
       "      <td>3</td>\n",
       "      <td>5</td>\n",
       "      <td>10</td>\n",
       "    </tr>\n",
       "    <tr>\n",
       "      <th>9</th>\n",
       "      <td>secretary</td>\n",
       "      <td>senior</td>\n",
       "      <td>5</td>\n",
       "      <td>3</td>\n",
       "      <td>4</td>\n",
       "    </tr>\n",
       "  </tbody>\n",
       "</table>\n",
       "</div>"
      ],
      "text/plain": [
       "  department  status  age  salary  count\n",
       "0      sales  senior    2       5     30\n",
       "4    systems  senior    2       6      5\n",
       "6    systems  senior    4       6      3\n",
       "7  marketing  senior    3       5     10\n",
       "9  secretary  senior    5       3      4"
      ]
     },
     "execution_count": 13,
     "metadata": {},
     "output_type": "execute_result"
    }
   ],
   "source": [
    "df[df[\"status\"]==\"senior\"]"
   ]
  },
  {
   "cell_type": "code",
   "execution_count": 9,
   "metadata": {},
   "outputs": [
    {
     "data": {
      "text/plain": [
       "department    salessystemssystemsmarketingsecretary\n",
       "status               seniorseniorseniorseniorsenior\n",
       "age                                              16\n",
       "salary                                           25\n",
       "count                                            52\n",
       "dtype: object"
      ]
     },
     "execution_count": 9,
     "metadata": {},
     "output_type": "execute_result"
    }
   ],
   "source": [
    "df[df[\"status\"]==\"senior\"].sum()"
   ]
  },
  {
   "cell_type": "code",
   "execution_count": 11,
   "metadata": {},
   "outputs": [
    {
     "name": "stderr",
     "output_type": "stream",
     "text": [
      "/Users/gasanoe/anaconda3/envs/py3/lib/python3.7/site-packages/ipykernel_launcher.py:1: UserWarning: Boolean Series key will be reindexed to match DataFrame index.\n",
      "  \"\"\"Entry point for launching an IPython kernel.\n"
     ]
    },
    {
     "data": {
      "text/html": [
       "<div>\n",
       "<style scoped>\n",
       "    .dataframe tbody tr th:only-of-type {\n",
       "        vertical-align: middle;\n",
       "    }\n",
       "\n",
       "    .dataframe tbody tr th {\n",
       "        vertical-align: top;\n",
       "    }\n",
       "\n",
       "    .dataframe thead th {\n",
       "        text-align: right;\n",
       "    }\n",
       "</style>\n",
       "<table border=\"1\" class=\"dataframe\">\n",
       "  <thead>\n",
       "    <tr style=\"text-align: right;\">\n",
       "      <th></th>\n",
       "      <th>department</th>\n",
       "      <th>status</th>\n",
       "      <th>age</th>\n",
       "      <th>salary</th>\n",
       "      <th>count</th>\n",
       "    </tr>\n",
       "  </thead>\n",
       "  <tbody>\n",
       "    <tr>\n",
       "      <th>3</th>\n",
       "      <td>systems</td>\n",
       "      <td>junior</td>\n",
       "      <td>0</td>\n",
       "      <td>5</td>\n",
       "      <td>20</td>\n",
       "    </tr>\n",
       "    <tr>\n",
       "      <th>5</th>\n",
       "      <td>systems</td>\n",
       "      <td>junior</td>\n",
       "      <td>1</td>\n",
       "      <td>5</td>\n",
       "      <td>3</td>\n",
       "    </tr>\n",
       "  </tbody>\n",
       "</table>\n",
       "</div>"
      ],
      "text/plain": [
       "  department  status  age  salary  count\n",
       "3    systems  junior    0       5     20\n",
       "5    systems  junior    1       5      3"
      ]
     },
     "execution_count": 11,
     "metadata": {},
     "output_type": "execute_result"
    }
   ],
   "source": [
    "df[df[\"status\"]==\"junior\"][df[\"department\"]==\"systems\"]"
   ]
  },
  {
   "cell_type": "code",
   "execution_count": null,
   "metadata": {},
   "outputs": [],
   "source": []
  }
 ],
 "metadata": {
  "kernelspec": {
   "display_name": "Python 3",
   "language": "python",
   "name": "python3"
  },
  "language_info": {
   "codemirror_mode": {
    "name": "ipython",
    "version": 3
   },
   "file_extension": ".py",
   "mimetype": "text/x-python",
   "name": "python",
   "nbconvert_exporter": "python",
   "pygments_lexer": "ipython3",
   "version": "3.7.2"
  }
 },
 "nbformat": 4,
 "nbformat_minor": 2
}
